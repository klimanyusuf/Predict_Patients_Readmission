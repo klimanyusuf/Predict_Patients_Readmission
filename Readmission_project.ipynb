{
 "cells": [
  {
   "cell_type": "markdown",
   "id": "d3e04eaf-4c6d-45eb-9f1d-6fd96b77c89d",
   "metadata": {},
   "source": [
    "## Project\n",
    "Predict the risk of hospital readmission for patients who have been discharged from the hospital within the previous 30 days given the information in the attached dataset (taken from US Medicare patients).."
   ]
  },
  {
   "cell_type": "code",
   "execution_count": 1,
   "id": "fe12ce9a-8912-45e5-a7cf-caa1d81beb4e",
   "metadata": {},
   "outputs": [],
   "source": [
    "#import the required libraries\n",
    "import pandas as pd\n",
    "import numpy as np\n",
    "import matplotlib.pyplot as plt\n",
    "%matplotlib inline\n",
    "import time\n",
    "import seaborn as sns"
   ]
  },
  {
   "cell_type": "code",
   "execution_count": 53,
   "id": "74c2a281-33be-4f44-8ab1-85a33d2c9ce2",
   "metadata": {},
   "outputs": [
    {
     "data": {
      "text/html": [
       "<div>\n",
       "<style scoped>\n",
       "    .dataframe tbody tr th:only-of-type {\n",
       "        vertical-align: middle;\n",
       "    }\n",
       "\n",
       "    .dataframe tbody tr th {\n",
       "        vertical-align: top;\n",
       "    }\n",
       "\n",
       "    .dataframe thead th {\n",
       "        text-align: right;\n",
       "    }\n",
       "</style>\n",
       "<table border=\"1\" class=\"dataframe\">\n",
       "  <thead>\n",
       "    <tr style=\"text-align: right;\">\n",
       "      <th></th>\n",
       "      <th>ID.Codes</th>\n",
       "      <th>Readmission.Status</th>\n",
       "      <th>Gender</th>\n",
       "      <th>Race</th>\n",
       "      <th>ER</th>\n",
       "      <th>DRG.class</th>\n",
       "      <th>LOS</th>\n",
       "      <th>Age</th>\n",
       "      <th>HCC.Riskscore</th>\n",
       "      <th>DRG.Complication</th>\n",
       "    </tr>\n",
       "  </thead>\n",
       "  <tbody>\n",
       "    <tr>\n",
       "      <th>0</th>\n",
       "      <td>0005EC02F1DC3A15</td>\n",
       "      <td>0</td>\n",
       "      <td>M</td>\n",
       "      <td>White</td>\n",
       "      <td>0</td>\n",
       "      <td>MED</td>\n",
       "      <td>3</td>\n",
       "      <td>71</td>\n",
       "      <td>1.631</td>\n",
       "      <td>MedicalMCC.CC</td>\n",
       "    </tr>\n",
       "    <tr>\n",
       "      <th>1</th>\n",
       "      <td>0005EC02F1DC3A15</td>\n",
       "      <td>0</td>\n",
       "      <td>M</td>\n",
       "      <td>White</td>\n",
       "      <td>0</td>\n",
       "      <td>SURG</td>\n",
       "      <td>2</td>\n",
       "      <td>71</td>\n",
       "      <td>1.631</td>\n",
       "      <td>Other</td>\n",
       "    </tr>\n",
       "    <tr>\n",
       "      <th>2</th>\n",
       "      <td>0006C4369B0D7B5F</td>\n",
       "      <td>0</td>\n",
       "      <td>M</td>\n",
       "      <td>White</td>\n",
       "      <td>0</td>\n",
       "      <td>MED</td>\n",
       "      <td>2</td>\n",
       "      <td>68</td>\n",
       "      <td>0.585</td>\n",
       "      <td>MedicalNoC</td>\n",
       "    </tr>\n",
       "    <tr>\n",
       "      <th>3</th>\n",
       "      <td>000960C9E1C43BE4</td>\n",
       "      <td>0</td>\n",
       "      <td>F</td>\n",
       "      <td>White</td>\n",
       "      <td>0</td>\n",
       "      <td>SURG</td>\n",
       "      <td>12</td>\n",
       "      <td>79</td>\n",
       "      <td>1.660</td>\n",
       "      <td>SurgNoC</td>\n",
       "    </tr>\n",
       "    <tr>\n",
       "      <th>4</th>\n",
       "      <td>00098CF15837D918</td>\n",
       "      <td>0</td>\n",
       "      <td>M</td>\n",
       "      <td>White</td>\n",
       "      <td>0</td>\n",
       "      <td>SURG</td>\n",
       "      <td>4</td>\n",
       "      <td>91</td>\n",
       "      <td>1.768</td>\n",
       "      <td>SurgNoC</td>\n",
       "    </tr>\n",
       "  </tbody>\n",
       "</table>\n",
       "</div>"
      ],
      "text/plain": [
       "           ID.Codes  Readmission.Status Gender   Race  ER DRG.class  LOS  Age  \\\n",
       "0  0005EC02F1DC3A15                   0      M  White   0       MED    3   71   \n",
       "1  0005EC02F1DC3A15                   0      M  White   0      SURG    2   71   \n",
       "2  0006C4369B0D7B5F                   0      M  White   0       MED    2   68   \n",
       "3  000960C9E1C43BE4                   0      F  White   0      SURG   12   79   \n",
       "4  00098CF15837D918                   0      M  White   0      SURG    4   91   \n",
       "\n",
       "   HCC.Riskscore DRG.Complication  \n",
       "0          1.631    MedicalMCC.CC  \n",
       "1          1.631            Other  \n",
       "2          0.585       MedicalNoC  \n",
       "3          1.660          SurgNoC  \n",
       "4          1.768          SurgNoC  "
      ]
     },
     "execution_count": 53,
     "metadata": {},
     "output_type": "execute_result"
    }
   ],
   "source": [
    "# load the csv file\n",
    "df = pd.read_csv('HospitalAdmissionPrediction.csv')\n",
    "df.head()"
   ]
  },
  {
   "cell_type": "markdown",
   "id": "7886e678-3dd5-4a80-905f-33ed097cf3a3",
   "metadata": {},
   "source": [
    "## EDA: Exploratory Data Analysis\n",
    "Let's understand the dataset more"
   ]
  },
  {
   "cell_type": "code",
   "execution_count": 54,
   "id": "7bf51293-5f80-491f-b35d-09273bfccfc8",
   "metadata": {},
   "outputs": [
    {
     "data": {
      "text/plain": [
       "ID.Codes              0\n",
       "Readmission.Status    0\n",
       "Gender                0\n",
       "Race                  0\n",
       "ER                    0\n",
       "DRG.class             0\n",
       "LOS                   0\n",
       "Age                   0\n",
       "HCC.Riskscore         0\n",
       "DRG.Complication      0\n",
       "dtype: int64"
      ]
     },
     "execution_count": 54,
     "metadata": {},
     "output_type": "execute_result"
    }
   ],
   "source": [
    "#check for any missing value\n",
    "df.isnull().sum()"
   ]
  },
  {
   "cell_type": "raw",
   "id": "38f06e94-c98c-420b-9794-15b5bd86704c",
   "metadata": {},
   "source": [
    "The result shows that there are no missing values"
   ]
  },
  {
   "cell_type": "code",
   "execution_count": 55,
   "id": "1c5946e1-552b-44e4-89d7-8e22d9c87f62",
   "metadata": {},
   "outputs": [
    {
     "name": "stdout",
     "output_type": "stream",
     "text": [
      "<class 'pandas.core.frame.DataFrame'>\n",
      "RangeIndex: 66782 entries, 0 to 66781\n",
      "Data columns (total 10 columns):\n",
      " #   Column              Non-Null Count  Dtype  \n",
      "---  ------              --------------  -----  \n",
      " 0   ID.Codes            66782 non-null  object \n",
      " 1   Readmission.Status  66782 non-null  int64  \n",
      " 2   Gender              66782 non-null  object \n",
      " 3   Race                66782 non-null  object \n",
      " 4   ER                  66782 non-null  int64  \n",
      " 5   DRG.class           66782 non-null  object \n",
      " 6   LOS                 66782 non-null  int64  \n",
      " 7   Age                 66782 non-null  int64  \n",
      " 8   HCC.Riskscore       66782 non-null  float64\n",
      " 9   DRG.Complication    66782 non-null  object \n",
      "dtypes: float64(1), int64(4), object(5)\n",
      "memory usage: 5.1+ MB\n"
     ]
    }
   ],
   "source": [
    "df.info()"
   ]
  },
  {
   "cell_type": "code",
   "execution_count": 56,
   "id": "9f2750e5-1658-4ff5-a7a5-df3e8b7e3e2a",
   "metadata": {},
   "outputs": [
    {
     "data": {
      "text/html": [
       "<div>\n",
       "<style scoped>\n",
       "    .dataframe tbody tr th:only-of-type {\n",
       "        vertical-align: middle;\n",
       "    }\n",
       "\n",
       "    .dataframe tbody tr th {\n",
       "        vertical-align: top;\n",
       "    }\n",
       "\n",
       "    .dataframe thead th {\n",
       "        text-align: right;\n",
       "    }\n",
       "</style>\n",
       "<table border=\"1\" class=\"dataframe\">\n",
       "  <thead>\n",
       "    <tr style=\"text-align: right;\">\n",
       "      <th></th>\n",
       "      <th>Readmission.Status</th>\n",
       "      <th>ER</th>\n",
       "      <th>LOS</th>\n",
       "      <th>Age</th>\n",
       "      <th>HCC.Riskscore</th>\n",
       "    </tr>\n",
       "  </thead>\n",
       "  <tbody>\n",
       "    <tr>\n",
       "      <th>count</th>\n",
       "      <td>66782.000000</td>\n",
       "      <td>66782.000000</td>\n",
       "      <td>66782.000000</td>\n",
       "      <td>66782.000000</td>\n",
       "      <td>66782.000000</td>\n",
       "    </tr>\n",
       "    <tr>\n",
       "      <th>mean</th>\n",
       "      <td>0.125917</td>\n",
       "      <td>0.508281</td>\n",
       "      <td>6.693420</td>\n",
       "      <td>73.636309</td>\n",
       "      <td>2.345236</td>\n",
       "    </tr>\n",
       "    <tr>\n",
       "      <th>std</th>\n",
       "      <td>0.331758</td>\n",
       "      <td>0.817415</td>\n",
       "      <td>5.698282</td>\n",
       "      <td>13.337235</td>\n",
       "      <td>1.671520</td>\n",
       "    </tr>\n",
       "    <tr>\n",
       "      <th>min</th>\n",
       "      <td>0.000000</td>\n",
       "      <td>0.000000</td>\n",
       "      <td>1.000000</td>\n",
       "      <td>24.000000</td>\n",
       "      <td>0.079000</td>\n",
       "    </tr>\n",
       "    <tr>\n",
       "      <th>25%</th>\n",
       "      <td>0.000000</td>\n",
       "      <td>0.000000</td>\n",
       "      <td>3.000000</td>\n",
       "      <td>67.000000</td>\n",
       "      <td>1.107000</td>\n",
       "    </tr>\n",
       "    <tr>\n",
       "      <th>50%</th>\n",
       "      <td>0.000000</td>\n",
       "      <td>0.000000</td>\n",
       "      <td>5.000000</td>\n",
       "      <td>75.000000</td>\n",
       "      <td>1.865500</td>\n",
       "    </tr>\n",
       "    <tr>\n",
       "      <th>75%</th>\n",
       "      <td>0.000000</td>\n",
       "      <td>1.000000</td>\n",
       "      <td>8.000000</td>\n",
       "      <td>83.000000</td>\n",
       "      <td>3.173000</td>\n",
       "    </tr>\n",
       "    <tr>\n",
       "      <th>max</th>\n",
       "      <td>1.000000</td>\n",
       "      <td>9.000000</td>\n",
       "      <td>36.000000</td>\n",
       "      <td>101.000000</td>\n",
       "      <td>12.307000</td>\n",
       "    </tr>\n",
       "  </tbody>\n",
       "</table>\n",
       "</div>"
      ],
      "text/plain": [
       "       Readmission.Status            ER           LOS           Age  \\\n",
       "count        66782.000000  66782.000000  66782.000000  66782.000000   \n",
       "mean             0.125917      0.508281      6.693420     73.636309   \n",
       "std              0.331758      0.817415      5.698282     13.337235   \n",
       "min              0.000000      0.000000      1.000000     24.000000   \n",
       "25%              0.000000      0.000000      3.000000     67.000000   \n",
       "50%              0.000000      0.000000      5.000000     75.000000   \n",
       "75%              0.000000      1.000000      8.000000     83.000000   \n",
       "max              1.000000      9.000000     36.000000    101.000000   \n",
       "\n",
       "       HCC.Riskscore  \n",
       "count   66782.000000  \n",
       "mean        2.345236  \n",
       "std         1.671520  \n",
       "min         0.079000  \n",
       "25%         1.107000  \n",
       "50%         1.865500  \n",
       "75%         3.173000  \n",
       "max        12.307000  "
      ]
     },
     "execution_count": 56,
     "metadata": {},
     "output_type": "execute_result"
    }
   ],
   "source": [
    "df.describe()"
   ]
  },
  {
   "cell_type": "code",
   "execution_count": 57,
   "id": "20b7c527-c8c7-4189-8d45-ae45fc631b80",
   "metadata": {},
   "outputs": [
    {
     "data": {
      "text/plain": [
       "Readmission.Status\n",
       "0    58373\n",
       "1     8409\n",
       "dtype: int64"
      ]
     },
     "execution_count": 57,
     "metadata": {},
     "output_type": "execute_result"
    }
   ],
   "source": [
    "#Now lets check the number of patients readmitted  within 30 days and those not admitted within 30 day: since 1 indicates readmitted and 0 indicates not admitted\n",
    "df.groupby('Readmission.Status').size()"
   ]
  },
  {
   "cell_type": "code",
   "execution_count": 58,
   "id": "582adf89-a1af-4f89-a644-a75b993bd187",
   "metadata": {},
   "outputs": [
    {
     "data": {
      "text/html": [
       "<div>\n",
       "<style scoped>\n",
       "    .dataframe tbody tr th:only-of-type {\n",
       "        vertical-align: middle;\n",
       "    }\n",
       "\n",
       "    .dataframe tbody tr th {\n",
       "        vertical-align: top;\n",
       "    }\n",
       "\n",
       "    .dataframe thead th {\n",
       "        text-align: right;\n",
       "    }\n",
       "</style>\n",
       "<table border=\"1\" class=\"dataframe\">\n",
       "  <thead>\n",
       "    <tr style=\"text-align: right;\">\n",
       "      <th></th>\n",
       "      <th>ID.Codes</th>\n",
       "      <th>Gender</th>\n",
       "      <th>Race</th>\n",
       "      <th>ER</th>\n",
       "      <th>DRG.class</th>\n",
       "      <th>LOS</th>\n",
       "      <th>Age</th>\n",
       "      <th>HCC.Riskscore</th>\n",
       "      <th>DRG.Complication</th>\n",
       "    </tr>\n",
       "    <tr>\n",
       "      <th>Readmission.Status</th>\n",
       "      <th></th>\n",
       "      <th></th>\n",
       "      <th></th>\n",
       "      <th></th>\n",
       "      <th></th>\n",
       "      <th></th>\n",
       "      <th></th>\n",
       "      <th></th>\n",
       "      <th></th>\n",
       "    </tr>\n",
       "  </thead>\n",
       "  <tbody>\n",
       "    <tr>\n",
       "      <th>0</th>\n",
       "      <td>58373</td>\n",
       "      <td>58373</td>\n",
       "      <td>58373</td>\n",
       "      <td>58373</td>\n",
       "      <td>58373</td>\n",
       "      <td>58373</td>\n",
       "      <td>58373</td>\n",
       "      <td>58373</td>\n",
       "      <td>58373</td>\n",
       "    </tr>\n",
       "    <tr>\n",
       "      <th>1</th>\n",
       "      <td>8409</td>\n",
       "      <td>8409</td>\n",
       "      <td>8409</td>\n",
       "      <td>8409</td>\n",
       "      <td>8409</td>\n",
       "      <td>8409</td>\n",
       "      <td>8409</td>\n",
       "      <td>8409</td>\n",
       "      <td>8409</td>\n",
       "    </tr>\n",
       "  </tbody>\n",
       "</table>\n",
       "</div>"
      ],
      "text/plain": [
       "                    ID.Codes  Gender   Race     ER  DRG.class    LOS    Age  \\\n",
       "Readmission.Status                                                            \n",
       "0                      58373   58373  58373  58373      58373  58373  58373   \n",
       "1                       8409    8409   8409   8409       8409   8409   8409   \n",
       "\n",
       "                    HCC.Riskscore  DRG.Complication  \n",
       "Readmission.Status                                   \n",
       "0                           58373             58373  \n",
       "1                            8409              8409  "
      ]
     },
     "execution_count": 58,
     "metadata": {},
     "output_type": "execute_result"
    }
   ],
   "source": [
    "#lets aslo check for all the data distribution, the number of patients readmitted  within 30 days and those not admitted within 30 day: since 1 indicates readmitted and 0 indicates not admitted\n",
    "df.groupby('Readmission.Status').count()"
   ]
  },
  {
   "cell_type": "markdown",
   "id": "563f8402-d867-4ea1-be72-c9af520aba56",
   "metadata": {},
   "source": [
    "Some important columns to check through"
   ]
  },
  {
   "cell_type": "code",
   "execution_count": 59,
   "id": "a207127d-31ba-4474-96c7-8bc901123608",
   "metadata": {},
   "outputs": [
    {
     "data": {
      "text/plain": [
       "DRG.Complication\n",
       "MedicalMCC.CC    18110\n",
       "MedicalNoC       12310\n",
       "Other             9367\n",
       "SurgMCC.CC       15446\n",
       "SurgNoC          11549\n",
       "dtype: int64"
      ]
     },
     "execution_count": 59,
     "metadata": {},
     "output_type": "execute_result"
    }
   ],
   "source": [
    "#some important columns, we need to check\n",
    "df.groupby('DRG.Complication').size()"
   ]
  },
  {
   "cell_type": "code",
   "execution_count": 60,
   "id": "6900e20f-f19e-4d01-b7ef-4ee2a9fcbe4f",
   "metadata": {},
   "outputs": [
    {
     "data": {
      "text/plain": [
       "DRG.class\n",
       "MED        35771\n",
       "SURG       30447\n",
       "UNGROUP      564\n",
       "dtype: int64"
      ]
     },
     "execution_count": 60,
     "metadata": {},
     "output_type": "execute_result"
    }
   ],
   "source": [
    "df.groupby('DRG.class').size()"
   ]
  },
  {
   "cell_type": "code",
   "execution_count": 61,
   "id": "0aa4bc8f-5969-4753-91f2-9e5918af270d",
   "metadata": {},
   "outputs": [
    {
     "data": {
      "text/plain": [
       "Race\n",
       "Black        7099\n",
       "Hispanic     1286\n",
       "Other        2273\n",
       "White       56124\n",
       "dtype: int64"
      ]
     },
     "execution_count": 61,
     "metadata": {},
     "output_type": "execute_result"
    }
   ],
   "source": [
    "df.groupby('Race').size()"
   ]
  },
  {
   "cell_type": "markdown",
   "id": "77173ae6-04e2-4cae-9ef1-fdc15b3f586c",
   "metadata": {},
   "source": [
    "Let's define a function to calculate the prevalence of population that is readmitted within 30 days and thoes that are not"
   ]
  },
  {
   "cell_type": "code",
   "execution_count": 62,
   "id": "2f3628b5-6c04-47b9-94a5-7c60cec54f38",
   "metadata": {},
   "outputs": [],
   "source": [
    "def calc_prevalence(y_actual):\n",
    "    return (sum(y_actual)/len(y_actual))"
   ]
  },
  {
   "cell_type": "code",
   "execution_count": 63,
   "id": "216686cd-73c2-49e3-b927-13156909f2e0",
   "metadata": {},
   "outputs": [
    {
     "name": "stdout",
     "output_type": "stream",
     "text": [
      "Prevalence:0.126\n"
     ]
    }
   ],
   "source": [
    "print('Prevalence:%.3f'%calc_prevalence(df['Readmission.Status'].values))"
   ]
  },
  {
   "cell_type": "code",
   "execution_count": 64,
   "id": "8e357fc2-2026-442a-8422-e2d69466f4b7",
   "metadata": {},
   "outputs": [
    {
     "name": "stdout",
     "output_type": "stream",
     "text": [
      "ID.Codes: 37800 unique values\n",
      "Readmission.Status\n",
      "[0 1]\n",
      "Gender\n",
      "['M' 'F']\n",
      "Race\n",
      "['White' 'Other' 'Hispanic' 'Black']\n",
      "ER\n",
      "[0 1 2 3 4 6 5 9 7]\n",
      "DRG.class\n",
      "['MED' 'SURG' 'UNGROUP']\n",
      "LOS: 36 unique values\n",
      "Age: 78 unique values\n",
      "HCC.Riskscore: 5595 unique values\n",
      "DRG.Complication\n",
      "['MedicalMCC.CC' 'Other' 'MedicalNoC' 'SurgNoC' 'SurgMCC.CC']\n"
     ]
    }
   ],
   "source": [
    "# Lets take a look at unique values for each column\n",
    "for c in list(df.columns):\n",
    "    \n",
    "    # get a list of unique values\n",
    "    n = df[c].unique()\n",
    "    \n",
    "    # if number of unique values is less than 30, print the values. Otherwise print the number of unique values\n",
    "    if len(n)<30:\n",
    "        print(c)\n",
    "        print(n)\n",
    "    else:\n",
    "        print(c + ': ' +str(len(n)) + ' unique values')"
   ]
  },
  {
   "cell_type": "markdown",
   "id": "967ddea0-8bd5-4f1c-93ff-f0da9e7a32e5",
   "metadata": {},
   "source": [
    "We can observe that the data is a mix of categorical and numerical datatype"
   ]
  },
  {
   "cell_type": "markdown",
   "id": "4be39499-826a-4d95-bdff-e20b9cb3d550",
   "metadata": {},
   "source": [
    "## Feature Engineering\n",
    "Here, We will create features for our predictive model. For each section, we will add new variables to the dataframe and then keep track of which columns of the dataframe we want to use as part of the predictive model features. We will break down this section into numerical featuresand categorical features "
   ]
  },
  {
   "cell_type": "markdown",
   "id": "64d1770c-2dff-4fe5-8d04-b017d0021f4c",
   "metadata": {},
   "source": [
    "## Numerical Features\n",
    "We will create numerical varaibles"
   ]
  },
  {
   "cell_type": "code",
   "execution_count": 65,
   "id": "243c5315-7df8-42b6-963c-5b9edf4d5db9",
   "metadata": {},
   "outputs": [],
   "source": [
    "# You will notice that the column ID.Codes has been ignored here because it is not a determinant for our prediction but we can add it\n",
    "Cols_num = ['HCC.Riskscore','LOS','Age','ER']  \n"
   ]
  },
  {
   "cell_type": "markdown",
   "id": "c599652e-b071-4cbb-baea-394e77cdc347",
   "metadata": {},
   "source": [
    "## Categorical Features\n",
    "The next step is to create are categorical variables. Categorical variables are non-numeric data such as race and gender. To turn these non-numerical data into variables, the simplest thing is to use a technique called one-hot encoding.\n",
    "\n",
    "The first set of categorical data we will deal with are these columns:"
   ]
  },
  {
   "cell_type": "code",
   "execution_count": 66,
   "id": "f5139090-ffbe-4e73-b0c2-38ab3d3e7e69",
   "metadata": {},
   "outputs": [],
   "source": [
    "Cols_cat = ['DRG.Complication','DRG.class', 'Gender','Race']"
   ]
  },
  {
   "cell_type": "markdown",
   "id": "43f6b9cf-d5e8-4856-a4e6-32e44bd0f367",
   "metadata": {},
   "source": [
    "To convert our categorical features to numbers, we will use a technique called one-hot encoding. In one-hot encoding, you create a new column for each unique value in that column. Then the value of the column is 1 if the sample has that unique value or 0 otherwise. For example, for the column race, we would create new columns ('race_white','race_hispanic', etc). If the patient's race is white, the patient gets a 1 under 'race_white' and 0 under the rest of the race columns. To create these one-hot encoding columns, we can use the get_dummies function.\n",
    "And since the get_dummies function does not work on numerical data.We can convert the numerical data into strings and then it will work properly.\n",
    "The get_dummies function does not work on numerical data. To trick get_dummies, we can convert the numerical data into strings and then it will work properly"
   ]
  },
  {
   "cell_type": "markdown",
   "id": "a9073b66",
   "metadata": {},
   "source": [
    "Also note that we can add the column ID.codes here and convert it to string then use one hot encoding to the convert it to the required format but this would consume alot of our memomry.And also the column is doesnt have much of relevance to the end result. In this case i will just ignore that for now anc concentrate on the cols_cat"
   ]
  },
  {
   "cell_type": "code",
   "execution_count": 67,
   "id": "0a27b6f1-d9e2-4f3a-bf0a-0c8e98663f90",
   "metadata": {},
   "outputs": [
    {
     "data": {
      "text/html": [
       "<div>\n",
       "<style scoped>\n",
       "    .dataframe tbody tr th:only-of-type {\n",
       "        vertical-align: middle;\n",
       "    }\n",
       "\n",
       "    .dataframe tbody tr th {\n",
       "        vertical-align: top;\n",
       "    }\n",
       "\n",
       "    .dataframe thead th {\n",
       "        text-align: right;\n",
       "    }\n",
       "</style>\n",
       "<table border=\"1\" class=\"dataframe\">\n",
       "  <thead>\n",
       "    <tr style=\"text-align: right;\">\n",
       "      <th></th>\n",
       "      <th>DRG.Complication_MedicalMCC.CC</th>\n",
       "      <th>DRG.Complication_MedicalNoC</th>\n",
       "      <th>DRG.Complication_Other</th>\n",
       "      <th>DRG.Complication_SurgMCC.CC</th>\n",
       "      <th>DRG.Complication_SurgNoC</th>\n",
       "      <th>DRG.class_MED</th>\n",
       "      <th>DRG.class_SURG</th>\n",
       "      <th>DRG.class_UNGROUP</th>\n",
       "      <th>Gender_F</th>\n",
       "      <th>Gender_M</th>\n",
       "      <th>Race_Black</th>\n",
       "      <th>Race_Hispanic</th>\n",
       "      <th>Race_Other</th>\n",
       "      <th>Race_White</th>\n",
       "    </tr>\n",
       "  </thead>\n",
       "  <tbody>\n",
       "    <tr>\n",
       "      <th>0</th>\n",
       "      <td>1</td>\n",
       "      <td>0</td>\n",
       "      <td>0</td>\n",
       "      <td>0</td>\n",
       "      <td>0</td>\n",
       "      <td>1</td>\n",
       "      <td>0</td>\n",
       "      <td>0</td>\n",
       "      <td>0</td>\n",
       "      <td>1</td>\n",
       "      <td>0</td>\n",
       "      <td>0</td>\n",
       "      <td>0</td>\n",
       "      <td>1</td>\n",
       "    </tr>\n",
       "    <tr>\n",
       "      <th>1</th>\n",
       "      <td>0</td>\n",
       "      <td>0</td>\n",
       "      <td>1</td>\n",
       "      <td>0</td>\n",
       "      <td>0</td>\n",
       "      <td>0</td>\n",
       "      <td>1</td>\n",
       "      <td>0</td>\n",
       "      <td>0</td>\n",
       "      <td>1</td>\n",
       "      <td>0</td>\n",
       "      <td>0</td>\n",
       "      <td>0</td>\n",
       "      <td>1</td>\n",
       "    </tr>\n",
       "    <tr>\n",
       "      <th>2</th>\n",
       "      <td>0</td>\n",
       "      <td>1</td>\n",
       "      <td>0</td>\n",
       "      <td>0</td>\n",
       "      <td>0</td>\n",
       "      <td>1</td>\n",
       "      <td>0</td>\n",
       "      <td>0</td>\n",
       "      <td>0</td>\n",
       "      <td>1</td>\n",
       "      <td>0</td>\n",
       "      <td>0</td>\n",
       "      <td>0</td>\n",
       "      <td>1</td>\n",
       "    </tr>\n",
       "    <tr>\n",
       "      <th>3</th>\n",
       "      <td>0</td>\n",
       "      <td>0</td>\n",
       "      <td>0</td>\n",
       "      <td>0</td>\n",
       "      <td>1</td>\n",
       "      <td>0</td>\n",
       "      <td>1</td>\n",
       "      <td>0</td>\n",
       "      <td>1</td>\n",
       "      <td>0</td>\n",
       "      <td>0</td>\n",
       "      <td>0</td>\n",
       "      <td>0</td>\n",
       "      <td>1</td>\n",
       "    </tr>\n",
       "    <tr>\n",
       "      <th>4</th>\n",
       "      <td>0</td>\n",
       "      <td>0</td>\n",
       "      <td>0</td>\n",
       "      <td>0</td>\n",
       "      <td>1</td>\n",
       "      <td>0</td>\n",
       "      <td>1</td>\n",
       "      <td>0</td>\n",
       "      <td>0</td>\n",
       "      <td>1</td>\n",
       "      <td>0</td>\n",
       "      <td>0</td>\n",
       "      <td>0</td>\n",
       "      <td>1</td>\n",
       "    </tr>\n",
       "    <tr>\n",
       "      <th>...</th>\n",
       "      <td>...</td>\n",
       "      <td>...</td>\n",
       "      <td>...</td>\n",
       "      <td>...</td>\n",
       "      <td>...</td>\n",
       "      <td>...</td>\n",
       "      <td>...</td>\n",
       "      <td>...</td>\n",
       "      <td>...</td>\n",
       "      <td>...</td>\n",
       "      <td>...</td>\n",
       "      <td>...</td>\n",
       "      <td>...</td>\n",
       "      <td>...</td>\n",
       "    </tr>\n",
       "    <tr>\n",
       "      <th>66777</th>\n",
       "      <td>0</td>\n",
       "      <td>0</td>\n",
       "      <td>1</td>\n",
       "      <td>0</td>\n",
       "      <td>0</td>\n",
       "      <td>0</td>\n",
       "      <td>0</td>\n",
       "      <td>1</td>\n",
       "      <td>0</td>\n",
       "      <td>1</td>\n",
       "      <td>0</td>\n",
       "      <td>0</td>\n",
       "      <td>0</td>\n",
       "      <td>1</td>\n",
       "    </tr>\n",
       "    <tr>\n",
       "      <th>66778</th>\n",
       "      <td>0</td>\n",
       "      <td>0</td>\n",
       "      <td>0</td>\n",
       "      <td>0</td>\n",
       "      <td>1</td>\n",
       "      <td>0</td>\n",
       "      <td>1</td>\n",
       "      <td>0</td>\n",
       "      <td>1</td>\n",
       "      <td>0</td>\n",
       "      <td>0</td>\n",
       "      <td>0</td>\n",
       "      <td>0</td>\n",
       "      <td>1</td>\n",
       "    </tr>\n",
       "    <tr>\n",
       "      <th>66779</th>\n",
       "      <td>0</td>\n",
       "      <td>1</td>\n",
       "      <td>0</td>\n",
       "      <td>0</td>\n",
       "      <td>0</td>\n",
       "      <td>1</td>\n",
       "      <td>0</td>\n",
       "      <td>0</td>\n",
       "      <td>1</td>\n",
       "      <td>0</td>\n",
       "      <td>0</td>\n",
       "      <td>0</td>\n",
       "      <td>0</td>\n",
       "      <td>1</td>\n",
       "    </tr>\n",
       "    <tr>\n",
       "      <th>66780</th>\n",
       "      <td>0</td>\n",
       "      <td>0</td>\n",
       "      <td>1</td>\n",
       "      <td>0</td>\n",
       "      <td>0</td>\n",
       "      <td>0</td>\n",
       "      <td>1</td>\n",
       "      <td>0</td>\n",
       "      <td>1</td>\n",
       "      <td>0</td>\n",
       "      <td>0</td>\n",
       "      <td>0</td>\n",
       "      <td>0</td>\n",
       "      <td>1</td>\n",
       "    </tr>\n",
       "    <tr>\n",
       "      <th>66781</th>\n",
       "      <td>1</td>\n",
       "      <td>0</td>\n",
       "      <td>0</td>\n",
       "      <td>0</td>\n",
       "      <td>0</td>\n",
       "      <td>1</td>\n",
       "      <td>0</td>\n",
       "      <td>0</td>\n",
       "      <td>1</td>\n",
       "      <td>0</td>\n",
       "      <td>0</td>\n",
       "      <td>0</td>\n",
       "      <td>0</td>\n",
       "      <td>1</td>\n",
       "    </tr>\n",
       "  </tbody>\n",
       "</table>\n",
       "<p>66782 rows × 14 columns</p>\n",
       "</div>"
      ],
      "text/plain": [
       "       DRG.Complication_MedicalMCC.CC  DRG.Complication_MedicalNoC  \\\n",
       "0                                   1                            0   \n",
       "1                                   0                            0   \n",
       "2                                   0                            1   \n",
       "3                                   0                            0   \n",
       "4                                   0                            0   \n",
       "...                               ...                          ...   \n",
       "66777                               0                            0   \n",
       "66778                               0                            0   \n",
       "66779                               0                            1   \n",
       "66780                               0                            0   \n",
       "66781                               1                            0   \n",
       "\n",
       "       DRG.Complication_Other  DRG.Complication_SurgMCC.CC  \\\n",
       "0                           0                            0   \n",
       "1                           1                            0   \n",
       "2                           0                            0   \n",
       "3                           0                            0   \n",
       "4                           0                            0   \n",
       "...                       ...                          ...   \n",
       "66777                       1                            0   \n",
       "66778                       0                            0   \n",
       "66779                       0                            0   \n",
       "66780                       1                            0   \n",
       "66781                       0                            0   \n",
       "\n",
       "       DRG.Complication_SurgNoC  DRG.class_MED  DRG.class_SURG  \\\n",
       "0                             0              1               0   \n",
       "1                             0              0               1   \n",
       "2                             0              1               0   \n",
       "3                             1              0               1   \n",
       "4                             1              0               1   \n",
       "...                         ...            ...             ...   \n",
       "66777                         0              0               0   \n",
       "66778                         1              0               1   \n",
       "66779                         0              1               0   \n",
       "66780                         0              0               1   \n",
       "66781                         0              1               0   \n",
       "\n",
       "       DRG.class_UNGROUP  Gender_F  Gender_M  Race_Black  Race_Hispanic  \\\n",
       "0                      0         0         1           0              0   \n",
       "1                      0         0         1           0              0   \n",
       "2                      0         0         1           0              0   \n",
       "3                      0         1         0           0              0   \n",
       "4                      0         0         1           0              0   \n",
       "...                  ...       ...       ...         ...            ...   \n",
       "66777                  1         0         1           0              0   \n",
       "66778                  0         1         0           0              0   \n",
       "66779                  0         1         0           0              0   \n",
       "66780                  0         1         0           0              0   \n",
       "66781                  0         1         0           0              0   \n",
       "\n",
       "       Race_Other  Race_White  \n",
       "0               0           1  \n",
       "1               0           1  \n",
       "2               0           1  \n",
       "3               0           1  \n",
       "4               0           1  \n",
       "...           ...         ...  \n",
       "66777           0           1  \n",
       "66778           0           1  \n",
       "66779           0           1  \n",
       "66780           0           1  \n",
       "66781           0           1  \n",
       "\n",
       "[66782 rows x 14 columns]"
      ]
     },
     "execution_count": 67,
     "metadata": {},
     "output_type": "execute_result"
    }
   ],
   "source": [
    "# This makes all our categorical Features ready\n",
    "df_cat = df_cat = pd.get_dummies(df[Cols_cat])\n",
    "df_cat"
   ]
  },
  {
   "cell_type": "code",
   "execution_count": 68,
   "id": "593a1789-4a52-4808-8db1-859dfd978a49",
   "metadata": {},
   "outputs": [],
   "source": [
    "#adding the one hot encoding table to innitial data\n",
    "df = pd.concat([df,df_cat], axis = 1)\n",
    "cols_all_cat = list(df_cat.columns) # Saving the columns name"
   ]
  },
  {
   "cell_type": "markdown",
   "id": "92986296-0577-4c6f-84b5-ae86e14f7572",
   "metadata": {},
   "source": [
    "## Feature Engineering Summaries"
   ]
  },
  {
   "cell_type": "code",
   "execution_count": 69,
   "id": "9ea8784b-c1e2-4d57-97d6-5655e46ec227",
   "metadata": {},
   "outputs": [
    {
     "name": "stdout",
     "output_type": "stream",
     "text": [
      "Total number of features: 18\n",
      "Numerical Features: 4\n",
      "Categorical Features: 14\n"
     ]
    }
   ],
   "source": [
    "print('Total number of features:', len(Cols_num + cols_all_cat))\n",
    "print('Numerical Features:',len(Cols_num))\n",
    "print('Categorical Features:',len(cols_all_cat))"
   ]
  },
  {
   "cell_type": "code",
   "execution_count": 70,
   "id": "95e2fe0d-d94a-4e42-a72a-c1b20be94226",
   "metadata": {},
   "outputs": [
    {
     "data": {
      "text/plain": [
       "Race_Black       0\n",
       "HCC.Riskscore    0\n",
       "dtype: int64"
      ]
     },
     "execution_count": 70,
     "metadata": {},
     "output_type": "execute_result"
    }
   ],
   "source": [
    "#lets check for any missing values\n",
    "df[Cols_num + cols_all_cat ].isnull().sum().sort_values(ascending = False).head().sample(frac = 0.5)"
   ]
  },
  {
   "cell_type": "code",
   "execution_count": 71,
   "id": "c94a94a3-40e9-4180-9850-d62baa622c98",
   "metadata": {},
   "outputs": [],
   "source": [
    "# Now let's select the columns we want to use for prediction\n",
    "col_use = Cols_num + cols_all_cat \n",
    "df_data = df[col_use + [\"Readmission.Status\"]]"
   ]
  },
  {
   "cell_type": "markdown",
   "id": "53886a53-f605-4217-82a8-e4876e07f504",
   "metadata": {},
   "source": [
    "## Building Training | Validation |Test Samples\n",
    "In this project, We will split the data into 70% train and 30% test ( 15% validation and 15% test).\n",
    "\n",
    "The first thing I would  like to do is to shuffle the samples using sample in case there was some order (e.g. all positive samples on top). Here n is the number. random_state is just specified so the entire class gets the same shuffling. You wouldn't need random_state in your own projects."
   ]
  },
  {
   "cell_type": "code",
   "execution_count": 72,
   "id": "47c44aab-5e25-467a-9e4d-0fa35d01f832",
   "metadata": {},
   "outputs": [],
   "source": [
    "# shuffle the samples\n",
    "df_data = df_data.sample(n = len(df_data), random_state = 42)\n",
    "df_data = df_data.reset_index(drop = True)"
   ]
  },
  {
   "cell_type": "code",
   "execution_count": 73,
   "id": "dcb1ac92-7f3a-4b43-af9b-24aa4e760c03",
   "metadata": {},
   "outputs": [
    {
     "name": "stdout",
     "output_type": "stream",
     "text": [
      "Split size: 0.300\n"
     ]
    }
   ],
   "source": [
    "# Let's Save 30% of the data as validation and test data using frac\n",
    "df_valid_test=df_data.sample(frac=0.30,random_state=42)\n",
    "print('Split size: %.3f'%(len(df_valid_test)/len(df_data)))"
   ]
  },
  {
   "cell_type": "code",
   "execution_count": 74,
   "id": "3aef5af2-b10f-4962-9787-90a46e3557df",
   "metadata": {},
   "outputs": [],
   "source": [
    "#And now split into test and validation using 50% fraction.\n",
    "df_test = df_valid_test.sample(frac = 0.5, random_state = 42)\n",
    "df_valid = df_valid_test.drop(df_test.index)"
   ]
  },
  {
   "cell_type": "markdown",
   "id": "dac9957f-aa0f-4288-81f2-6c544bf13ab4",
   "metadata": {},
   "source": [
    "Note that I just drop the rows from df_test to get the rows that were not part of the sample.\n",
    "We can use this same idea to get the training data"
   ]
  },
  {
   "cell_type": "code",
   "execution_count": 75,
   "id": "5dd1347a-d9a8-4a56-bc91-87dc97bc9eb6",
   "metadata": {},
   "outputs": [],
   "source": [
    "# use the rest of the data as training data\n",
    "df_train_all=df_data.drop(df_valid_test.index)"
   ]
  },
  {
   "cell_type": "markdown",
   "id": "1af11066-9427-4ef1-913d-7e9ece635744",
   "metadata": {},
   "source": [
    "let's check what percent of our groups are hospitalized within 30 days. This is known as prevalence. Ideally, all three groups would have similar prevalance."
   ]
  },
  {
   "cell_type": "code",
   "execution_count": 76,
   "id": "dd63416f-83a5-4d2d-aa13-7a897cc334c7",
   "metadata": {},
   "outputs": [
    {
     "name": "stdout",
     "output_type": "stream",
     "text": [
      "Test prevalence(n = 10018):0.127\n",
      "Valid prevalence(n = 10017):0.128\n",
      "Train all prevalence(n = 46747):0.125\n"
     ]
    }
   ],
   "source": [
    "print('Test prevalence(n = %d):%.3f'%(len(df_test),calc_prevalence(df_test['Readmission.Status'].values)))\n",
    "print('Valid prevalence(n = %d):%.3f'%(len(df_valid),calc_prevalence(df_valid['Readmission.Status'].values)))\n",
    "print('Train all prevalence(n = %d):%.3f'%(len(df_train_all), calc_prevalence(df_train_all['Readmission.Status'].values)))"
   ]
  },
  {
   "cell_type": "markdown",
   "id": "b6faab56-ca78-414f-ad33-68ba622d5355",
   "metadata": {},
   "source": [
    "The prevelance is about the same in each group : 12"
   ]
  },
  {
   "cell_type": "code",
   "execution_count": 77,
   "id": "4fb708f8-825e-4644-af51-5eced2e99490",
   "metadata": {},
   "outputs": [
    {
     "name": "stdout",
     "output_type": "stream",
     "text": [
      "all samples (n = 66782)\n"
     ]
    }
   ],
   "source": [
    "#Let's verify that we used all the data.\n",
    "print('all samples (n = %d)'%len(df_data))\n",
    "assert len(df_data) == (len(df_test)+len(df_valid)+len(df_train_all)),'math didnt work'"
   ]
  },
  {
   "cell_type": "markdown",
   "id": "9126b591-7829-4042-b75d-47493cffb5b4",
   "metadata": {},
   "source": [
    "At this point, we might want to consider dropping the training data into a predictive model and see the outcome. However, if we do this, it is possible that we will get back a model that is 89% accurate. This is Great! However, we never catch any of the readmissions (recall= 0%). How can this happen?\n",
    "\n",
    "What is happening is that we have an imbalanced dataset where there are much more negatives than positives, so the model might just assigns all samples as negative.\n",
    "\n",
    "Typically, it will be better to balance the data in some way to give the positives more weight. There are 3 strategies that are typically utilized:\n",
    "\n",
    "- sub-sample the more dominant class: use a random subset of the negatives\n",
    "- over-sample the imbalanced class: use the same positive samples multiple times\n",
    "- create synthetic positive data"
   ]
  },
  {
   "cell_type": "markdown",
   "id": "48b39bd5-1cd5-4423-8112-977b56a8bd8b",
   "metadata": {},
   "source": [
    "Usually, we would want to use the latter two methods if you only have a handful of positive cases. Since we have a few thousand positive cases, let's use the sub-sample approach. Here, we will create a balanced training data set that has 50% positive and 50% negative. You can also play with this ratio to see if you can get an improvement."
   ]
  },
  {
   "cell_type": "code",
   "execution_count": 78,
   "id": "60c71430-9bd9-4e3b-9320-8b102c743b0c",
   "metadata": {},
   "outputs": [
    {
     "name": "stdout",
     "output_type": "stream",
     "text": [
      "Train balanced prevalence(n = 11716):0.500\n"
     ]
    }
   ],
   "source": [
    "# split the training data into positive and negative\n",
    "rows_pos = df_train_all['Readmission.Status'] == 1\n",
    "df_train_pos = df_train_all.loc[rows_pos]\n",
    "df_train_neg = df_train_all.loc[~rows_pos]\n",
    "\n",
    "# merge the balanced data\n",
    "df_train = pd.concat([df_train_pos, df_train_neg.sample(n = len(df_train_pos), random_state = 42)],axis = 0)\n",
    "\n",
    "# shuffle the order of training samples \n",
    "df_train = df_train.sample(n = len(df_train), random_state = 42).reset_index(drop = True)\n",
    "\n",
    "print('Train balanced prevalence(n = %d):%.3f'%(len(df_train), calc_prevalence(df_train['Readmission.Status'].values)))"
   ]
  },
  {
   "cell_type": "code",
   "execution_count": 79,
   "id": "05d19f9d-510d-4d59-acc1-de23b82dd448",
   "metadata": {},
   "outputs": [],
   "source": [
    "# it is important that we save our data\n",
    "df_train_all.to_csv('df_train_all.csv',index=False)\n",
    "df_train.to_csv('df_train.csv',index=False)\n",
    "df_valid.to_csv('df_valid.csv',index=False)\n",
    "df_test.to_csv('df_test.csv',index=False)"
   ]
  },
  {
   "cell_type": "code",
   "execution_count": 80,
   "id": "ce75d9ae-548b-42f1-a3b9-391615fdd7c0",
   "metadata": {},
   "outputs": [
    {
     "name": "stdout",
     "output_type": "stream",
     "text": [
      "Training All shapes: (46747, 18)\n",
      "Training shapes: (11716, 18) (11716,)\n",
      "Validation shapes: (10017, 18) (10017,)\n"
     ]
    }
   ],
   "source": [
    "#lets create input matrix X and output vector y for our model\n",
    "X_train = df_train[col_use].values\n",
    "X_train_all = df_train_all[col_use].values\n",
    "X_valid = df_valid[col_use].values\n",
    "\n",
    "y_train = df_train['Readmission.Status'].values\n",
    "y_valid = df_valid['Readmission.Status'].values\n",
    "\n",
    "print('Training All shapes:',X_train_all.shape)\n",
    "print('Training shapes:',X_train.shape, y_train.shape)\n",
    "print('Validation shapes:',X_valid.shape, y_valid.shape)"
   ]
  },
  {
   "cell_type": "code",
   "execution_count": 82,
   "id": "fe75bd57",
   "metadata": {},
   "outputs": [
    {
     "name": "stdout",
     "output_type": "stream",
     "text": [
      "Collecting sklearnNote: you may need to restart the kernel to use updated packages.\n",
      "\n",
      "  Downloading sklearn-0.0.tar.gz (1.1 kB)\n",
      "Collecting scikit-learn\n",
      "  Downloading scikit_learn-1.0.2-cp38-cp38-win_amd64.whl (7.2 MB)\n",
      "Requirement already satisfied: numpy>=1.14.6 in c:\\users\\user\\anaconda3\\envs\\project\\lib\\site-packages (from scikit-learn->sklearn) (1.21.5)\n",
      "Requirement already satisfied: scipy>=1.1.0 in c:\\users\\user\\anaconda3\\envs\\project\\lib\\site-packages (from scikit-learn->sklearn) (1.7.3)\n",
      "Collecting threadpoolctl>=2.0.0\n",
      "  Downloading threadpoolctl-3.1.0-py3-none-any.whl (14 kB)\n",
      "Collecting joblib>=0.11\n",
      "  Downloading joblib-1.1.0-py2.py3-none-any.whl (306 kB)\n",
      "Building wheels for collected packages: sklearn\n",
      "  Building wheel for sklearn (setup.py): started\n",
      "  Building wheel for sklearn (setup.py): finished with status 'done'\n",
      "  Created wheel for sklearn: filename=sklearn-0.0-py2.py3-none-any.whl size=1310 sha256=5dd3830aec1ddb79d8fa06f299b6fd9f0a9e164dd085412b2f5e54909861c497\n",
      "  Stored in directory: c:\\users\\user\\appdata\\local\\pip\\cache\\wheels\\22\\0b\\40\\fd3f795caaa1fb4c6cb738bc1f56100be1e57da95849bfc897\n",
      "Successfully built sklearn\n",
      "Installing collected packages: threadpoolctl, joblib, scikit-learn, sklearn\n",
      "Successfully installed joblib-1.1.0 scikit-learn-1.0.2 sklearn-0.0 threadpoolctl-3.1.0\n"
     ]
    }
   ],
   "source": [
    "#lets install sklearn\n",
    "!pip install sklearn"
   ]
  },
  {
   "cell_type": "markdown",
   "id": "4843ad6c",
   "metadata": {},
   "source": [
    "Here we will use scikit learn's Standard Scaler which to remove the mean and scales to unit variance. I will create a scaler using all the training data."
   ]
  },
  {
   "cell_type": "code",
   "execution_count": 114,
   "id": "be179046-f40d-4e31-ba6b-35037972c554",
   "metadata": {},
   "outputs": [
    {
     "data": {
      "text/plain": [
       "StandardScaler()"
      ]
     },
     "execution_count": 114,
     "metadata": {},
     "output_type": "execute_result"
    }
   ],
   "source": [
    "from sklearn.preprocessing import StandardScaler\n",
    "\n",
    "scaler  = StandardScaler()\n",
    "scaler.fit(X_train_all)"
   ]
  },
  {
   "cell_type": "code",
   "execution_count": 84,
   "id": "55e42768-db79-4574-b536-88dbba5bd2b7",
   "metadata": {},
   "outputs": [],
   "source": [
    "# since we would need  this scaler lets's save it using pickle\n",
    "import pickle\n",
    "scalerfile = 'scaler.sav'\n",
    "pickle.dump(scaler, open(scalerfile, 'wb'))"
   ]
  },
  {
   "cell_type": "code",
   "execution_count": 85,
   "id": "d3dc8896-a8ea-4573-ba17-1de36be02352",
   "metadata": {},
   "outputs": [],
   "source": [
    "# load it back\n",
    "scaler = pickle.load(open(scalerfile, 'rb'))"
   ]
  },
  {
   "cell_type": "code",
   "execution_count": 86,
   "id": "24699b24",
   "metadata": {},
   "outputs": [],
   "source": [
    "#now we can transform our Matrix\n",
    "X_train_tf = scaler.transform(X_train)\n",
    "X_valid_tf = scaler.transform(X_valid)"
   ]
  },
  {
   "cell_type": "markdown",
   "id": "8276889c-c256-48b8-a93b-8887135f9c39",
   "metadata": {},
   "source": [
    "## Model Selection\n",
    "\n",
    "In this section, we would train a few machine learning models and use a few techniques for optimizing them. We will then select the best model based on performance on the validation set.\n",
    "\n",
    "We will utilize the below functions to evaluate the performance of the model"
   ]
  },
  {
   "cell_type": "code",
   "execution_count": 92,
   "id": "f7d4ce64-c993-4cb8-894e-cf630d9822bb",
   "metadata": {},
   "outputs": [],
   "source": [
    "from sklearn.metrics import roc_auc_score, accuracy_score, precision_score, recall_score, classification_report\n",
    "def calc_specificity(y_actual, y_pred, thresh):\n",
    "    # calculates specificity\n",
    "    return sum((y_pred < thresh) & (y_actual == 0)) /sum(y_actual ==0)\n",
    "\n",
    "def print_report(y_actual, y_pred, thresh):\n",
    "    \n",
    "    auc = roc_auc_score(y_actual, y_pred)\n",
    "    accuracy = accuracy_score(y_actual, (y_pred > thresh))\n",
    "    recall = recall_score(y_actual, (y_pred > thresh))\n",
    "    precision = precision_score(y_actual, (y_pred > thresh))\n",
    "    specificity = calc_specificity(y_actual, y_pred, thresh)\n",
    "    print('AUC:%.3f'%auc)\n",
    "    print('accuracy:%.3f'%accuracy)\n",
    "    print('recall:%.3f'%recall)\n",
    "    print('precision:%.3f'%precision)\n",
    "    print('specificity:%.3f'%specificity)\n",
    "    print('prevalence:%.3f'%calc_prevalence(y_actual))\n",
    "    print(' ')\n",
    "    return auc, accuracy, recall, precision, specificity "
   ]
  },
  {
   "cell_type": "code",
   "execution_count": 93,
   "id": "9db23fa5-88a3-49f2-94fe-04461454e742",
   "metadata": {},
   "outputs": [],
   "source": [
    "#Since we have balanced our training data, let's set our threshold at 0.5 to label a predicted sample as positive.\n",
    "thresh = 0.5"
   ]
  },
  {
   "cell_type": "code",
   "execution_count": null,
   "id": "26040222",
   "metadata": {},
   "outputs": [],
   "source": [
    "# Lets take a sample of 2% from the Cols_cat_num to avoid running out of memory\n",
    "Cols_cat_num = ['ID.Codes']\n",
    "df[Cols_cat_num] = df[Cols_cat_num].astype('str').sample(frac =0.2)"
   ]
  },
  {
   "cell_type": "markdown",
   "id": "39383b3a-e8c9-4e0f-9ed5-e61391b39f46",
   "metadata": {},
   "source": [
    "## Model Selection: \n",
    "We will build and compare the performance of 5 machine learning models using default hyperparameters."
   ]
  },
  {
   "cell_type": "markdown",
   "id": "12d7cbbe",
   "metadata": {},
   "source": [
    "## Logistic Regression"
   ]
  },
  {
   "cell_type": "code",
   "execution_count": 122,
   "id": "ad03473f",
   "metadata": {},
   "outputs": [
    {
     "data": {
      "text/plain": [
       "LogisticRegression(random_state=42)"
      ]
     },
     "execution_count": 122,
     "metadata": {},
     "output_type": "execute_result"
    }
   ],
   "source": [
    "from sklearn.linear_model import LogisticRegression\n",
    "lr=LogisticRegression(random_state = 42)\n",
    "lr.fit(X_train_tf, y_train)"
   ]
  },
  {
   "cell_type": "code",
   "execution_count": 123,
   "id": "a66650ed",
   "metadata": {},
   "outputs": [
    {
     "name": "stdout",
     "output_type": "stream",
     "text": [
      "Logistic Regression\n",
      "Training:\n",
      "AUC:0.738\n",
      "accuracy:0.664\n",
      "recall:0.594\n",
      "precision:0.691\n",
      "specificity:0.734\n",
      "prevalence:0.500\n",
      " \n",
      "Validation:\n",
      "AUC:0.737\n",
      "accuracy:0.719\n",
      "recall:0.609\n",
      "precision:0.252\n",
      "specificity:0.735\n",
      "prevalence:0.128\n",
      " \n"
     ]
    }
   ],
   "source": [
    "y_train_preds = lr.predict_proba(X_train_tf)[:,1]\n",
    "y_valid_preds = lr.predict_proba(X_valid_tf)[:,1]\n",
    "\n",
    "print('Logistic Regression')\n",
    "print('Training:')\n",
    "lr_train_auc, lr_train_accuracy, lr_train_recall, \\\n",
    "    lr_train_precision, lr_train_specificity = print_report(y_train,y_train_preds, thresh)\n",
    "print('Validation:')\n",
    "lr_valid_auc, lr_valid_accuracy, lr_valid_recall, \\\n",
    "    lr_valid_precision, lr_valid_specificity = print_report(y_valid,y_valid_preds, thresh)"
   ]
  },
  {
   "cell_type": "markdown",
   "id": "87c57e04",
   "metadata": {},
   "source": [
    "## K- Nearest Neighbors (KNN)"
   ]
  },
  {
   "cell_type": "code",
   "execution_count": 124,
   "id": "4f3432b0",
   "metadata": {},
   "outputs": [
    {
     "data": {
      "text/plain": [
       "KNeighborsClassifier(n_neighbors=100)"
      ]
     },
     "execution_count": 124,
     "metadata": {},
     "output_type": "execute_result"
    }
   ],
   "source": [
    "# k-nearest neighbors\n",
    "from sklearn.neighbors import KNeighborsClassifier\n",
    "knn=KNeighborsClassifier(n_neighbors = 100)\n",
    "knn.fit(X_train_tf, y_train)"
   ]
  },
  {
   "cell_type": "code",
   "execution_count": 125,
   "id": "341afd51",
   "metadata": {},
   "outputs": [
    {
     "name": "stdout",
     "output_type": "stream",
     "text": [
      "KNN\n",
      "Training:\n",
      "AUC:0.725\n",
      "accuracy:0.663\n",
      "recall:0.616\n",
      "precision:0.680\n",
      "specificity:0.688\n",
      "prevalence:0.500\n",
      " \n",
      "Validation:\n",
      "AUC:0.710\n",
      "accuracy:0.688\n",
      "recall:0.607\n",
      "precision:0.229\n",
      "specificity:0.680\n",
      "prevalence:0.128\n",
      " \n"
     ]
    }
   ],
   "source": [
    "y_train_preds = knn.predict_proba(X_train_tf)[:,1]\n",
    "y_valid_preds = knn.predict_proba(X_valid_tf)[:,1]\n",
    "\n",
    "print('KNN')\n",
    "print('Training:')\n",
    "knn_train_auc, knn_train_accuracy, knn_train_recall, \\\n",
    "    knn_train_precision, knn_train_specificity = print_report(y_train,y_train_preds, thresh)\n",
    "print('Validation:')\n",
    "knn_valid_auc, knn_valid_accuracy, knn_valid_recall, \\\n",
    "    knn_valid_precision, knn_valid_specificity = print_report(y_valid,y_valid_preds, thresh)"
   ]
  },
  {
   "cell_type": "markdown",
   "id": "f0b4739b",
   "metadata": {},
   "source": [
    "## Decision Tree"
   ]
  },
  {
   "cell_type": "code",
   "execution_count": 126,
   "id": "15e2cb93",
   "metadata": {},
   "outputs": [
    {
     "data": {
      "text/plain": [
       "DecisionTreeClassifier(max_depth=10, random_state=42)"
      ]
     },
     "execution_count": 126,
     "metadata": {},
     "output_type": "execute_result"
    }
   ],
   "source": [
    "from sklearn.tree import DecisionTreeClassifier\n",
    "\n",
    "tree = DecisionTreeClassifier(max_depth = 10, random_state = 42)\n",
    "tree.fit(X_train_tf, y_train)"
   ]
  },
  {
   "cell_type": "code",
   "execution_count": 127,
   "id": "b9867b8a",
   "metadata": {},
   "outputs": [
    {
     "name": "stdout",
     "output_type": "stream",
     "text": [
      "Decision Tree\n",
      "Training:\n",
      "AUC:0.805\n",
      "accuracy:0.722\n",
      "recall:0.816\n",
      "precision:0.687\n",
      "specificity:0.621\n",
      "prevalence:0.500\n",
      " \n",
      "Validation:\n",
      "AUC:0.681\n",
      "accuracy:0.576\n",
      "recall:0.741\n",
      "precision:0.195\n",
      "specificity:0.546\n",
      "prevalence:0.128\n",
      " \n"
     ]
    }
   ],
   "source": [
    "y_train_preds = tree.predict_proba(X_train_tf)[:,1]\n",
    "y_valid_preds = tree.predict_proba(X_valid_tf)[:,1]\n",
    "\n",
    "print('Decision Tree')\n",
    "print('Training:')\n",
    "tree_train_auc, tree_train_accuracy, tree_train_recall, tree_train_precision, tree_train_specificity =print_report(y_train,y_train_preds, thresh)\n",
    "print('Validation:')\n",
    "tree_valid_auc, tree_valid_accuracy, tree_valid_recall, tree_valid_precision, tree_valid_specificity = print_report(y_valid,y_valid_preds, thresh)"
   ]
  },
  {
   "cell_type": "markdown",
   "id": "b2fdca2d",
   "metadata": {},
   "source": [
    "## Random Forest"
   ]
  },
  {
   "cell_type": "code",
   "execution_count": 128,
   "id": "73d13715",
   "metadata": {},
   "outputs": [
    {
     "data": {
      "text/plain": [
       "RandomForestClassifier(max_depth=6, random_state=42)"
      ]
     },
     "execution_count": 128,
     "metadata": {},
     "output_type": "execute_result"
    }
   ],
   "source": [
    "from sklearn.ensemble import RandomForestClassifier\n",
    "rf=RandomForestClassifier(max_depth = 6, random_state = 42)\n",
    "rf.fit(X_train_tf, y_train)"
   ]
  },
  {
   "cell_type": "code",
   "execution_count": 129,
   "id": "17554749",
   "metadata": {},
   "outputs": [
    {
     "name": "stdout",
     "output_type": "stream",
     "text": [
      "Random Forest\n",
      "Training:\n",
      "AUC:0.760\n",
      "accuracy:0.683\n",
      "recall:0.794\n",
      "precision:0.649\n",
      "specificity:0.571\n",
      "prevalence:0.500\n",
      " \n",
      "Validation:\n",
      "AUC:0.733\n",
      "accuracy:0.592\n",
      "recall:0.780\n",
      "precision:0.208\n",
      "specificity:0.565\n",
      "prevalence:0.128\n",
      " \n"
     ]
    }
   ],
   "source": [
    "y_train_preds = rf.predict_proba(X_train_tf)[:,1]\n",
    "y_valid_preds = rf.predict_proba(X_valid_tf)[:,1]\n",
    "\n",
    "print('Random Forest')\n",
    "print('Training:')\n",
    "rf_train_auc, rf_train_accuracy, rf_train_recall, rf_train_precision, rf_train_specificity =print_report(y_train,y_train_preds, thresh)\n",
    "print('Validation:')\n",
    "rf_valid_auc, rf_valid_accuracy, rf_valid_recall, rf_valid_precision, rf_valid_specificity = print_report(y_valid,y_valid_preds, thresh)"
   ]
  },
  {
   "cell_type": "markdown",
   "id": "ab30edd5",
   "metadata": {},
   "source": [
    "## Gradient Boosting Classifier"
   ]
  },
  {
   "cell_type": "code",
   "execution_count": 130,
   "id": "7fad7fc3",
   "metadata": {},
   "outputs": [
    {
     "data": {
      "text/plain": [
       "GradientBoostingClassifier(learning_rate=1.0, random_state=42)"
      ]
     },
     "execution_count": 130,
     "metadata": {},
     "output_type": "execute_result"
    }
   ],
   "source": [
    "from sklearn.ensemble import GradientBoostingClassifier\n",
    "gbc =GradientBoostingClassifier(n_estimators=100, learning_rate=1.0,\n",
    "     max_depth=3, random_state=42)\n",
    "gbc.fit(X_train_tf, y_train)"
   ]
  },
  {
   "cell_type": "code",
   "execution_count": 131,
   "id": "29b6cd8e",
   "metadata": {},
   "outputs": [
    {
     "name": "stdout",
     "output_type": "stream",
     "text": [
      "Gradient Boosting Classifier\n",
      "Training:\n",
      "AUC:0.825\n",
      "accuracy:0.739\n",
      "recall:0.771\n",
      "precision:0.725\n",
      "specificity:0.707\n",
      "prevalence:0.500\n",
      " \n",
      "Validation:\n",
      "AUC:0.693\n",
      "accuracy:0.615\n",
      "recall:0.688\n",
      "precision:0.203\n",
      "specificity:0.604\n",
      "prevalence:0.128\n",
      " \n"
     ]
    }
   ],
   "source": [
    "y_train_preds = gbc.predict_proba(X_train_tf)[:,1]\n",
    "y_valid_preds = gbc.predict_proba(X_valid_tf)[:,1]\n",
    "\n",
    "print('Gradient Boosting Classifier')\n",
    "print('Training:')\n",
    "gbc_train_auc, gbc_train_accuracy, gbc_train_recall, gbc_train_precision, gbc_train_specificity = print_report(y_train,y_train_preds, thresh)\n",
    "print('Validation:')\n",
    "gbc_valid_auc, gbc_valid_accuracy, gbc_valid_recall, gbc_valid_precision, gbc_valid_specificity = print_report(y_valid,y_valid_preds, thresh)"
   ]
  },
  {
   "cell_type": "markdown",
   "id": "50c9e1e1",
   "metadata": {},
   "source": [
    "## Analyze results baseline models\n",
    "\n",
    "Let's make a dataframe with these results and plot the outcomes using a package called seaborn. In this project, we will utilize the Area under the ROC curve (AUC) to evaluate the best model. This is a good data science performance metric for picking the best model since it captures the trade off between the true positive and false positive and does not require selecting a threshold. "
   ]
  },
  {
   "cell_type": "code",
   "execution_count": 141,
   "id": "53d42f4b",
   "metadata": {},
   "outputs": [],
   "source": [
    "df_results = pd.DataFrame({'classifier':['KNN','KNN','LR','LR','DT','DT','RF','RF','GB','GB'],\n",
    "                           'data_set':['train','valid']*5,\n",
    "                          'auc':[knn_train_auc, knn_valid_auc,lr_train_auc,lr_valid_auc,tree_train_auc,tree_valid_auc,rf_train_auc,rf_valid_auc,gbc_valid_auc,gbc_valid_auc,],\n",
    "                          'accuracy':[knn_train_accuracy, knn_valid_accuracy,lr_train_accuracy,lr_valid_accuracy,tree_train_accuracy,tree_valid_accuracy,rf_train_accuracy,rf_valid_accuracy,gbc_train_accuracy,gbc_valid_accuracy,],\n",
    "                          'recall':[knn_train_recall, knn_valid_recall,lr_train_recall,lr_valid_recall,tree_train_recall,tree_valid_recall,rf_train_recall,rf_valid_recall,gbc_train_recall,gbc_valid_recall,],\n",
    "                          'precision':[knn_train_precision, knn_valid_precision,lr_train_precision,lr_valid_precision,tree_train_precision,tree_valid_precision,rf_train_precision,rf_valid_precision,gbc_valid_auc,gbc_valid_precision,],\n",
    "                          'specificity':[knn_train_specificity, knn_valid_specificity,lr_train_specificity,lr_valid_specificity,tree_train_specificity,tree_valid_specificity,rf_train_specificity,rf_valid_specificity,gbc_valid_specificity,gbc_valid_specificity,]})"
   ]
  },
  {
   "cell_type": "code",
   "execution_count": 142,
   "id": "c1e6979b",
   "metadata": {},
   "outputs": [],
   "source": [
    "import seaborn as sns\n",
    "import matplotlib.pyplot as plt\n",
    "sns.set(style=\"darkgrid\")"
   ]
  },
  {
   "cell_type": "code",
   "execution_count": 143,
   "id": "9400c1ce",
   "metadata": {},
   "outputs": [
    {
     "data": {
      "image/png": "[encoded data removed]",
      "text/plain": [
       "<Figure size 432x288 with 1 Axes>"
      ]
     },
     "metadata": {},
     "output_type": "display_data"
    }
   ],
   "source": [
    "ax = sns.barplot(x=\"classifier\", y=\"auc\", hue=\"data_set\", data=df_results)\n",
    "ax.set_xlabel('Classifier',fontsize = 15)\n",
    "ax.set_ylabel('AUC', fontsize = 15)\n",
    "ax.tick_params(labelsize=15)\n",
    "\n",
    "# Put the legend out of the figure\n",
    "plt.legend(bbox_to_anchor=(1.05, 1), loc=2, borderaxespad=0., fontsize = 15)\n",
    "plt.show()"
   ]
  },
  {
   "cell_type": "markdown",
   "id": "1d56bf48",
   "metadata": {},
   "source": [
    "Now let's improve the model performances"
   ]
  },
  {
   "cell_type": "markdown",
   "id": "e417b9aa",
   "metadata": {},
   "source": [
    "## Model Selection: Learning Curve\n",
    "We will make use of the learning curve code from scikit-learn's website with a small change of plotting the AUC instead of accuracy. http://scikit-learn.org/stable/auto_examples/model_selection/plot_learning_curve.html. "
   ]
  },
  {
   "cell_type": "code",
   "execution_count": 145,
   "id": "cf5cfe68",
   "metadata": {},
   "outputs": [],
   "source": [
    "import numpy as np\n",
    "from sklearn.model_selection import learning_curve\n",
    "from sklearn.model_selection import ShuffleSplit\n",
    "\n",
    "def plot_learning_curve(estimator, title, X, y, ylim=None, cv=None,\n",
    "                        n_jobs=1, train_sizes=np.linspace(.1, 1.0, 5)):\n",
    "    \"\"\"\n",
    "    Generate a simple plot of the test and training learning curve.\n",
    "\n",
    "    Parameters\n",
    "    ----------\n",
    "    estimator : object type that implements the \"fit\" and \"predict\" methods\n",
    "        An object of that type which is cloned for each validation.\n",
    "\n",
    "    title : string\n",
    "        Title for the chart.\n",
    "\n",
    "    X : array-like, shape (n_samples, n_features)\n",
    "        Training vector, where n_samples is the number of samples and\n",
    "        n_features is the number of features.\n",
    "\n",
    "    y : array-like, shape (n_samples) or (n_samples, n_features), optional\n",
    "        Target relative to X for classification or regression;\n",
    "        None for unsupervised learning.\n",
    "\n",
    "    ylim : tuple, shape (ymin, ymax), optional\n",
    "        Defines minimum and maximum yvalues plotted.\n",
    "\n",
    "    cv : int, cross-validation generator or an iterable, optional\n",
    "        Determines the cross-validation splitting strategy.\n",
    "        Possible inputs for cv are:\n",
    "          - None, to use the default 3-fold cross-validation,\n",
    "          - integer, to specify the number of folds.\n",
    "          - An object to be used as a cross-validation generator.\n",
    "          - An iterable yielding train/test splits.\n",
    "\n",
    "        For integer/None inputs, if ``y`` is binary or multiclass,\n",
    "        :class:`StratifiedKFold` used. If the estimator is not a classifier\n",
    "        or if ``y`` is neither binary nor multiclass, :class:`KFold` is used.\n",
    "\n",
    "        Refer :ref:`User Guide <cross_validation>` for the various\n",
    "        cross-validators that can be used here.\n",
    "\n",
    "    n_jobs : integer, optional\n",
    "        Number of jobs to run in parallel (default 1).\n",
    "    \"\"\"\n",
    "    plt.figure()\n",
    "    plt.title(title)\n",
    "    if ylim is not None:\n",
    "        plt.ylim(*ylim)\n",
    "    plt.xlabel(\"Training examples\")\n",
    "    plt.ylabel(\"AUC\")\n",
    "    train_sizes, train_scores, test_scores = learning_curve(\n",
    "        estimator, X, y, cv=cv, n_jobs=n_jobs, train_sizes=train_sizes, scoring = 'roc_auc')\n",
    "    train_scores_mean = np.mean(train_scores, axis=1)\n",
    "    train_scores_std = np.std(train_scores, axis=1)\n",
    "    test_scores_mean = np.mean(test_scores, axis=1)\n",
    "    test_scores_std = np.std(test_scores, axis=1)\n",
    "    plt.grid()\n",
    "\n",
    "    plt.fill_between(train_sizes, train_scores_mean - train_scores_std,\n",
    "                     train_scores_mean + train_scores_std, alpha=0.1,\n",
    "                     color=\"r\")\n",
    "    plt.fill_between(train_sizes, test_scores_mean - test_scores_std,\n",
    "                     test_scores_mean + test_scores_std, alpha=0.1, color=\"b\")\n",
    "    plt.plot(train_sizes, train_scores_mean, 'o-', color=\"r\",\n",
    "             label=\"Training score\")\n",
    "    plt.plot(train_sizes, test_scores_mean, 'o-', color=\"b\",\n",
    "             label=\"Cross-validation score\")\n",
    "\n",
    "    plt.legend(loc=\"best\")\n",
    "    return plt"
   ]
  },
  {
   "cell_type": "code",
   "execution_count": 146,
   "id": "d6e9d871",
   "metadata": {},
   "outputs": [
    {
     "data": {
      "image/png": "[encoded data removed]",
      "text/plain": [
       "<Figure size 432x288 with 1 Axes>"
      ]
     },
     "metadata": {},
     "output_type": "display_data"
    }
   ],
   "source": [
    "title = \"Learning Curves (Random Forest)\"\n",
    "# Cross validation with 5 iterations to get smoother mean test and train\n",
    "# score curves, each time with 20% data randomly selected as a validation set.\n",
    "cv = ShuffleSplit(n_splits=5, test_size=0.2, random_state=42)\n",
    "estimator = RandomForestClassifier(max_depth = 6, random_state = 42)\n",
    "plot_learning_curve(estimator, title, X_train_tf, y_train, ylim=(0.2, 1.01), cv=cv, n_jobs=4)\n",
    "\n",
    "plt.show()"
   ]
  },
  {
   "cell_type": "markdown",
   "id": "f827d038",
   "metadata": {},
   "source": [
    "In the case of random forest, we can see the training and validation scores are similar but they both have low scores. This is called high bias and is a sign of underfitting."
   ]
  },
  {
   "cell_type": "markdown",
   "id": "9ee514d9",
   "metadata": {},
   "source": [
    "Depending on your learning curve, there are a few strategies you can employ to improve your models\n",
    "\n",
    "High Bias:\n",
    "Add new features\n",
    "* Increase model complexity\n",
    "* Reduce regularization\n",
    "* Change model architecture \n",
    "\n",
    "High Variance:\n",
    "* Add more samples\n",
    "* Add regularization\n",
    "* Reduce number of features\n",
    "* Decrease model complexity\n",
    "* Add better features\n",
    "* Change model architecture"
   ]
  },
  {
   "cell_type": "markdown",
   "id": "5c6dca00",
   "metadata": {},
   "source": [
    "### Model Selection: Feature Importance\n",
    "\n",
    "One path for improving your models to understand what features are important to your models. This can usually only be investigated for simpler models such as Logistic Regression or Random Forests. This analysis can help in a few areas:\n",
    "- inspire new feature ideas -- helps with both high bias and high variance\n",
    "- obtain a list of the top features to be used for feature reduction --> helps with high variance\n",
    "- point out errors in your pipeline -- helps with robustness of model\n",
    "Let's get the feature importance for a few models and then we can discuss what we see. \n",
    "\n",
    "### Feature Importance: Logistic regression\n",
    "\n",
    "Note that we have normalized the data so the coefficients are comparable between variables. We can extract the coefficients using coef_ and store in a new dataframe (sorted by importance) "
   ]
  },
  {
   "cell_type": "code",
   "execution_count": 150,
   "id": "86176531",
   "metadata": {},
   "outputs": [],
   "source": [
    "feature_importances = pd.DataFrame(lr.coef_[0],\n",
    "                                   index = col_use,\n",
    "                                    columns=['importance']).sort_values('importance',\n",
    "                                                                        ascending=False)"
   ]
  },
  {
   "cell_type": "code",
   "execution_count": 151,
   "id": "04ef149b",
   "metadata": {},
   "outputs": [
    {
     "data": {
      "text/html": [
       "<div>\n",
       "<style scoped>\n",
       "    .dataframe tbody tr th:only-of-type {\n",
       "        vertical-align: middle;\n",
       "    }\n",
       "\n",
       "    .dataframe tbody tr th {\n",
       "        vertical-align: top;\n",
       "    }\n",
       "\n",
       "    .dataframe thead th {\n",
       "        text-align: right;\n",
       "    }\n",
       "</style>\n",
       "<table border=\"1\" class=\"dataframe\">\n",
       "  <thead>\n",
       "    <tr style=\"text-align: right;\">\n",
       "      <th></th>\n",
       "      <th>importance</th>\n",
       "    </tr>\n",
       "  </thead>\n",
       "  <tbody>\n",
       "    <tr>\n",
       "      <th>HCC.Riskscore</th>\n",
       "      <td>0.804803</td>\n",
       "    </tr>\n",
       "    <tr>\n",
       "      <th>LOS</th>\n",
       "      <td>0.058094</td>\n",
       "    </tr>\n",
       "    <tr>\n",
       "      <th>DRG.Complication_Other</th>\n",
       "      <td>0.044909</td>\n",
       "    </tr>\n",
       "    <tr>\n",
       "      <th>DRG.class_MED</th>\n",
       "      <td>0.026163</td>\n",
       "    </tr>\n",
       "    <tr>\n",
       "      <th>DRG.Complication_SurgMCC.CC</th>\n",
       "      <td>0.022553</td>\n",
       "    </tr>\n",
       "  </tbody>\n",
       "</table>\n",
       "</div>"
      ],
      "text/plain": [
       "                             importance\n",
       "HCC.Riskscore                  0.804803\n",
       "LOS                            0.058094\n",
       "DRG.Complication_Other         0.044909\n",
       "DRG.class_MED                  0.026163\n",
       "DRG.Complication_SurgMCC.CC    0.022553"
      ]
     },
     "execution_count": 151,
     "metadata": {},
     "output_type": "execute_result"
    }
   ],
   "source": [
    "feature_importances.head()"
   ]
  },
  {
   "cell_type": "markdown",
   "id": "e91e31c4",
   "metadata": {},
   "source": [
    "For logistic regression, the variables with highest positive coefficients are predictive of re-hospitalization and the variables with highest negative coefficients are predictive of not being re-hospitalized. We can plot the top 10 for each direction below. "
   ]
  },
  {
   "cell_type": "code",
   "execution_count": 158,
   "id": "2a43f8a3",
   "metadata": {},
   "outputs": [
    {
     "data": {
      "image/png": "[encoded data removed]",
      "text/plain": [
       "<Figure size 640x1200 with 1 Axes>"
      ]
     },
     "metadata": {},
     "output_type": "display_data"
    }
   ],
   "source": [
    "num = 10\n",
    "ylocs = np.arange(num)\n",
    "# get the feature importance for top num and sort in reverse order\n",
    "values_to_plot = feature_importances.iloc[:num].values.ravel()[::-1]\n",
    "feature_labels = list(feature_importances.iloc[:num].index)[::-1]\n",
    "\n",
    "plt.figure(num=None, figsize=(8, 15), dpi=80, facecolor='w', edgecolor='k');\n",
    "plt.barh(ylocs, values_to_plot, align = 'center')\n",
    "plt.ylabel('Features')\n",
    "plt.xlabel('Importance Score')\n",
    "plt.title('Positive Feature Importance Score - Logistic Regression')\n",
    "plt.yticks(ylocs, feature_labels)\n",
    "plt.show()"
   ]
  },
  {
   "cell_type": "code",
   "execution_count": 159,
   "id": "c1c806cd",
   "metadata": {},
   "outputs": [
    {
     "data": {
      "image/png": "[encoded data removed]",
      "text/plain": [
       "<Figure size 640x1200 with 1 Axes>"
      ]
     },
     "metadata": {},
     "output_type": "display_data"
    }
   ],
   "source": [
    "values_to_plot = feature_importances.iloc[-num:].values.ravel()\n",
    "feature_labels = list(feature_importances.iloc[-num:].index)\n",
    "\n",
    "plt.figure(num=None, figsize=(8, 15), dpi=80, facecolor='w', edgecolor='k');\n",
    "plt.barh(ylocs, values_to_plot, align = 'center')\n",
    "plt.ylabel('Features')\n",
    "plt.xlabel('Importance Score')\n",
    "plt.title('Negative Feature Importance Score - Logistic Regression')\n",
    "plt.yticks(ylocs, feature_labels)\n",
    "plt.show()"
   ]
  },
  {
   "cell_type": "markdown",
   "id": "5553062b",
   "metadata": {},
   "source": [
    "### Feature Importance: random forest\n",
    "\n",
    "We can also investigate feature importance for random forest models. In this case, the feature importance shows how often a particular feature was used to split the data. However, we don't know if a particular feature is correlated with the positive class or negative class, but rather it is just importance for making a decision. "
   ]
  },
  {
   "cell_type": "code",
   "execution_count": 161,
   "id": "5d6a1978",
   "metadata": {},
   "outputs": [],
   "source": [
    "feature_importances = pd.DataFrame(rf.feature_importances_,\n",
    "                                   index = col_use,\n",
    "                                    columns=['importance']).sort_values('importance',\n",
    "                                                                        ascending=False)"
   ]
  },
  {
   "cell_type": "code",
   "execution_count": 162,
   "id": "d0a26c48",
   "metadata": {},
   "outputs": [
    {
     "data": {
      "text/html": [
       "<div>\n",
       "<style scoped>\n",
       "    .dataframe tbody tr th:only-of-type {\n",
       "        vertical-align: middle;\n",
       "    }\n",
       "\n",
       "    .dataframe tbody tr th {\n",
       "        vertical-align: top;\n",
       "    }\n",
       "\n",
       "    .dataframe thead th {\n",
       "        text-align: right;\n",
       "    }\n",
       "</style>\n",
       "<table border=\"1\" class=\"dataframe\">\n",
       "  <thead>\n",
       "    <tr style=\"text-align: right;\">\n",
       "      <th></th>\n",
       "      <th>importance</th>\n",
       "    </tr>\n",
       "  </thead>\n",
       "  <tbody>\n",
       "    <tr>\n",
       "      <th>HCC.Riskscore</th>\n",
       "      <td>0.813845</td>\n",
       "    </tr>\n",
       "    <tr>\n",
       "      <th>LOS</th>\n",
       "      <td>0.075208</td>\n",
       "    </tr>\n",
       "    <tr>\n",
       "      <th>Age</th>\n",
       "      <td>0.047065</td>\n",
       "    </tr>\n",
       "    <tr>\n",
       "      <th>ER</th>\n",
       "      <td>0.014661</td>\n",
       "    </tr>\n",
       "    <tr>\n",
       "      <th>DRG.Complication_Other</th>\n",
       "      <td>0.007871</td>\n",
       "    </tr>\n",
       "  </tbody>\n",
       "</table>\n",
       "</div>"
      ],
      "text/plain": [
       "                        importance\n",
       "HCC.Riskscore             0.813845\n",
       "LOS                       0.075208\n",
       "Age                       0.047065\n",
       "ER                        0.014661\n",
       "DRG.Complication_Other    0.007871"
      ]
     },
     "execution_count": 162,
     "metadata": {},
     "output_type": "execute_result"
    }
   ],
   "source": [
    "feature_importances.head()"
   ]
  },
  {
   "cell_type": "code",
   "execution_count": 163,
   "id": "3d756e31",
   "metadata": {},
   "outputs": [
    {
     "data": {
      "image/png": "[encoded data removed]",
      "text/plain": [
       "<Figure size 640x1200 with 1 Axes>"
      ]
     },
     "metadata": {},
     "output_type": "display_data"
    }
   ],
   "source": [
    "num = 10\n",
    "ylocs = np.arange(num)\n",
    "# get the feature importance for top num and sort in reverse order\n",
    "values_to_plot = feature_importances.iloc[:num].values.ravel()[::-1]\n",
    "feature_labels = list(feature_importances.iloc[:num].index)[::-1]\n",
    "\n",
    "plt.figure(num=None, figsize=(8, 15), dpi=80, facecolor='w', edgecolor='k');\n",
    "plt.barh(ylocs, values_to_plot, align = 'center')\n",
    "plt.ylabel('Features')\n",
    "plt.xlabel('Importance Score')\n",
    "plt.title('Feature Importance Score - Random Forest')\n",
    "plt.yticks(ylocs, feature_labels)\n",
    "plt.show()"
   ]
  },
  {
   "cell_type": "markdown",
   "id": "b2d5ba68",
   "metadata": {},
   "source": [
    "From the above visualisation, most of the important variables for random forest are continuous variables. This makes sense since you can split continuous variables more times than categorical variables"
   ]
  },
  {
   "cell_type": "markdown",
   "id": "8b5285f2",
   "metadata": {},
   "source": [
    "### Model Selection: Hyperparameter tuning\n",
    "Hyperparameter tuning are essentially the design decisions that you made when you set up the machine learning mode. These hyperparameters can be optimized to improve the model performance.\n",
    "\n",
    "Here, we will only optimize the hyper parameters for random forest and gradient boosting classifier. We will not optimize KNN since it took a while to train. We will not optimize Logistic regression and decision trees since they tend to overfit and perform worse that random forests and gradient boosting classifiers.\n",
    "We are going to use the grid search technique fot the hyperparameter tunning"
   ]
  },
  {
   "cell_type": "code",
   "execution_count": 164,
   "id": "aef90323",
   "metadata": {},
   "outputs": [
    {
     "data": {
      "text/plain": [
       "{'bootstrap': True,\n",
       " 'ccp_alpha': 0.0,\n",
       " 'class_weight': None,\n",
       " 'criterion': 'gini',\n",
       " 'max_depth': 6,\n",
       " 'max_features': 'auto',\n",
       " 'max_leaf_nodes': None,\n",
       " 'max_samples': None,\n",
       " 'min_impurity_decrease': 0.0,\n",
       " 'min_samples_leaf': 1,\n",
       " 'min_samples_split': 2,\n",
       " 'min_weight_fraction_leaf': 0.0,\n",
       " 'n_estimators': 100,\n",
       " 'n_jobs': None,\n",
       " 'oob_score': False,\n",
       " 'random_state': 42,\n",
       " 'verbose': 0,\n",
       " 'warm_start': False}"
      ]
     },
     "execution_count": 164,
     "metadata": {},
     "output_type": "execute_result"
    }
   ],
   "source": [
    "rf.get_params()"
   ]
  },
  {
   "cell_type": "markdown",
   "id": "12f68826",
   "metadata": {},
   "source": [
    "Let's create a grid search as below"
   ]
  },
  {
   "cell_type": "code",
   "execution_count": 166,
   "id": "963ae463",
   "metadata": {},
   "outputs": [
    {
     "name": "stdout",
     "output_type": "stream",
     "text": [
      "{'n_estimators': range(200, 1000, 200), 'max_features': ['auto', 'sqrt'], 'max_depth': range(1, 10), 'min_samples_split': range(2, 10, 2), 'criterion': ['gini', 'entropy']}\n"
     ]
    }
   ],
   "source": [
    "from sklearn.model_selection import RandomizedSearchCV\n",
    "\n",
    "# number of trees\n",
    "n_estimators = range(200,1000,200)\n",
    "# maximum number of features to use at each split\n",
    "max_features = ['auto','sqrt']\n",
    "# maximum depth of the tree\n",
    "max_depth = range(1,10,1)\n",
    "# minimum number of samples to split a node\n",
    "min_samples_split = range(2,10,2)\n",
    "# criterion for evaluating a split\n",
    "criterion = ['gini','entropy']\n",
    "\n",
    "# random grid\n",
    "\n",
    "random_grid = {'n_estimators':n_estimators,\n",
    "              'max_features':max_features,\n",
    "              'max_depth':max_depth,\n",
    "              'min_samples_split':min_samples_split,\n",
    "              'criterion':criterion}\n",
    "\n",
    "print(random_grid)"
   ]
  },
  {
   "cell_type": "markdown",
   "id": "f1d577fc",
   "metadata": {},
   "source": [
    "In order to use the RandomizedSearchCV function, we need something to score or evaluate a set of hyperparameters. Here we will use the auc"
   ]
  },
  {
   "cell_type": "code",
   "execution_count": 168,
   "id": "7025d089",
   "metadata": {},
   "outputs": [],
   "source": [
    "from sklearn.metrics import make_scorer, roc_auc_score\n",
    "auc_scoring = make_scorer(roc_auc_score)"
   ]
  },
  {
   "cell_type": "code",
   "execution_count": 169,
   "id": "0c90c7b1",
   "metadata": {},
   "outputs": [],
   "source": [
    "# create the randomized search cross-validation\n",
    "rf_random = RandomizedSearchCV(estimator = rf, param_distributions = random_grid, \n",
    "                               n_iter = 20, cv = 2, scoring=auc_scoring,\n",
    "                               verbose = 1, random_state = 42)"
   ]
  },
  {
   "cell_type": "code",
   "execution_count": 170,
   "id": "c096cd98",
   "metadata": {},
   "outputs": [
    {
     "name": "stdout",
     "output_type": "stream",
     "text": [
      "Fitting 2 folds for each of 20 candidates, totalling 40 fits\n",
      "265.25568079948425\n"
     ]
    }
   ],
   "source": [
    "# fit the random search model (this will take a few minutes)\n",
    "t1 = time.time()\n",
    "rf_random.fit(X_train_tf, y_train)\n",
    "t2 = time.time()\n",
    "print(t2-t1)"
   ]
  },
  {
   "cell_type": "markdown",
   "id": "9568a60a",
   "metadata": {},
   "source": [
    "Lets take a look at the best parameters"
   ]
  },
  {
   "cell_type": "code",
   "execution_count": 173,
   "id": "88a232f7",
   "metadata": {},
   "outputs": [
    {
     "data": {
      "text/plain": [
       "{'n_estimators': 600,\n",
       " 'min_samples_split': 4,\n",
       " 'max_features': 'sqrt',\n",
       " 'max_depth': 6,\n",
       " 'criterion': 'entropy'}"
      ]
     },
     "execution_count": 173,
     "metadata": {},
     "output_type": "execute_result"
    }
   ],
   "source": [
    "rf_random.best_params_"
   ]
  },
  {
   "cell_type": "code",
   "execution_count": 174,
   "id": "4684d680",
   "metadata": {},
   "outputs": [
    {
     "name": "stdout",
     "output_type": "stream",
     "text": [
      "Baseline Random Forest\n",
      "Training AUC:0.760\n",
      "Validation AUC:0.733\n",
      "Optimized Random Forest\n",
      "Training AUC:0.760\n",
      "Validation AUC:0.733\n"
     ]
    }
   ],
   "source": [
    "y_train_preds = rf.predict_proba(X_train_tf)[:,1]\n",
    "y_valid_preds = rf.predict_proba(X_valid_tf)[:,1]\n",
    "\n",
    "print('Baseline Random Forest')\n",
    "rf_train_auc_base = roc_auc_score(y_train, y_train_preds)\n",
    "rf_valid_auc_base = roc_auc_score(y_valid, y_valid_preds)\n",
    "\n",
    "print('Training AUC:%.3f'%(rf_train_auc_base))\n",
    "print('Validation AUC:%.3f'%(rf_valid_auc_base))\n",
    "\n",
    "print('Optimized Random Forest')\n",
    "y_train_preds_random = rf_random.best_estimator_.predict_proba(X_train_tf)[:,1]\n",
    "y_valid_preds_random = rf_random.best_estimator_.predict_proba(X_valid_tf)[:,1]\n",
    "\n",
    "rf_train_auc = roc_auc_score(y_train, y_train_preds_random)\n",
    "rf_valid_auc = roc_auc_score(y_valid, y_valid_preds_random)\n",
    "\n",
    "print('Training AUC:%.3f'%(rf_train_auc))\n",
    "print('Validation AUC:%.3f'%(rf_valid_auc))"
   ]
  },
  {
   "cell_type": "markdown",
   "id": "090e81d6",
   "metadata": {},
   "source": [
    "Optimize gradient boosting classifier"
   ]
  },
  {
   "cell_type": "code",
   "execution_count": 175,
   "id": "d6a6f47d",
   "metadata": {},
   "outputs": [
    {
     "name": "stdout",
     "output_type": "stream",
     "text": [
      "167.19542288780212\n"
     ]
    }
   ],
   "source": [
    "# number of trees\n",
    "n_estimators = range(100,500,100)\n",
    "\n",
    "# maximum depth of the tree\n",
    "max_depth = range(1,5,1)\n",
    "\n",
    "# learning rate\n",
    "learning_rate = [0.001,0.01,0.1]\n",
    "\n",
    "# random grid\n",
    "\n",
    "random_grid_gbc = {'n_estimators':n_estimators,\n",
    "              'max_depth':max_depth,\n",
    "              'learning_rate':learning_rate}\n",
    "\n",
    "# create the randomized search cross-validation\n",
    "gbc_random = RandomizedSearchCV(estimator = gbc, param_distributions = random_grid_gbc,\n",
    "                                n_iter = 20, cv = 2, scoring=auc_scoring,\n",
    "                                verbose = 0, random_state = 42)\n",
    "\n",
    "t1 = time.time()\n",
    "gbc_random.fit(X_train_tf, y_train)\n",
    "t2 = time.time()\n",
    "print(t2-t1)"
   ]
  },
  {
   "cell_type": "code",
   "execution_count": 176,
   "id": "b0380ebc",
   "metadata": {},
   "outputs": [
    {
     "data": {
      "text/plain": [
       "{'n_estimators': 400, 'max_depth': 1, 'learning_rate': 0.01}"
      ]
     },
     "execution_count": 176,
     "metadata": {},
     "output_type": "execute_result"
    }
   ],
   "source": [
    "gbc_random.best_params_"
   ]
  },
  {
   "cell_type": "code",
   "execution_count": 177,
   "id": "168a5838",
   "metadata": {},
   "outputs": [
    {
     "name": "stdout",
     "output_type": "stream",
     "text": [
      "Baseline gbc\n",
      "Training AUC:0.825\n",
      "Validation AUC:0.693\n",
      "Optimized gbc\n",
      "Training AUC:0.739\n",
      "Validation AUC:0.735\n"
     ]
    }
   ],
   "source": [
    "y_train_preds = gbc.predict_proba(X_train_tf)[:,1]\n",
    "y_valid_preds = gbc.predict_proba(X_valid_tf)[:,1]\n",
    "\n",
    "print('Baseline gbc')\n",
    "gbc_train_auc_base = roc_auc_score(y_train, y_train_preds)\n",
    "gbc_valid_auc_base = roc_auc_score(y_valid, y_valid_preds)\n",
    "\n",
    "print('Training AUC:%.3f'%(gbc_train_auc_base))\n",
    "print('Validation AUC:%.3f'%(gbc_valid_auc_base))\n",
    "\n",
    "print('Optimized gbc')\n",
    "y_train_preds_random = gbc_random.best_estimator_.predict_proba(X_train_tf)[:,1]\n",
    "y_valid_preds_random = gbc_random.best_estimator_.predict_proba(X_valid_tf)[:,1]\n",
    "gbc_train_auc = roc_auc_score(y_train, y_train_preds_random)\n",
    "gbc_valid_auc = roc_auc_score(y_valid, y_valid_preds_random)\n",
    "\n",
    "print('Training AUC:%.3f'%(gbc_train_auc))\n",
    "print('Validation AUC:%.3f'%(gbc_valid_auc))"
   ]
  },
  {
   "cell_type": "markdown",
   "id": "c95e5833",
   "metadata": {},
   "source": [
    "### Hyperparameter Tuning Result"
   ]
  },
  {
   "cell_type": "code",
   "execution_count": 180,
   "id": "95964db3",
   "metadata": {},
   "outputs": [],
   "source": [
    "df_results = pd.DataFrame({'classifier':['RF','RF','GB','GB'],\n",
    "                           'data_set':['base','optimized']*2,\n",
    "                          'auc':[rf_valid_auc_base,rf_valid_auc,\n",
    "                                 gbc_valid_auc_base,gbc_valid_auc,],\n",
    "                          })"
   ]
  },
  {
   "cell_type": "code",
   "execution_count": 181,
   "id": "d196cf2d",
   "metadata": {},
   "outputs": [
    {
     "data": {
      "text/html": [
       "<div>\n",
       "<style scoped>\n",
       "    .dataframe tbody tr th:only-of-type {\n",
       "        vertical-align: middle;\n",
       "    }\n",
       "\n",
       "    .dataframe tbody tr th {\n",
       "        vertical-align: top;\n",
       "    }\n",
       "\n",
       "    .dataframe thead th {\n",
       "        text-align: right;\n",
       "    }\n",
       "</style>\n",
       "<table border=\"1\" class=\"dataframe\">\n",
       "  <thead>\n",
       "    <tr style=\"text-align: right;\">\n",
       "      <th></th>\n",
       "      <th>classifier</th>\n",
       "      <th>data_set</th>\n",
       "      <th>auc</th>\n",
       "    </tr>\n",
       "  </thead>\n",
       "  <tbody>\n",
       "    <tr>\n",
       "      <th>0</th>\n",
       "      <td>RF</td>\n",
       "      <td>base</td>\n",
       "      <td>0.732926</td>\n",
       "    </tr>\n",
       "    <tr>\n",
       "      <th>1</th>\n",
       "      <td>RF</td>\n",
       "      <td>optimized</td>\n",
       "      <td>0.732555</td>\n",
       "    </tr>\n",
       "    <tr>\n",
       "      <th>2</th>\n",
       "      <td>GB</td>\n",
       "      <td>base</td>\n",
       "      <td>0.692682</td>\n",
       "    </tr>\n",
       "    <tr>\n",
       "      <th>3</th>\n",
       "      <td>GB</td>\n",
       "      <td>optimized</td>\n",
       "      <td>0.735448</td>\n",
       "    </tr>\n",
       "  </tbody>\n",
       "</table>\n",
       "</div>"
      ],
      "text/plain": [
       "  classifier   data_set       auc\n",
       "0         RF       base  0.732926\n",
       "1         RF  optimized  0.732555\n",
       "2         GB       base  0.692682\n",
       "3         GB  optimized  0.735448"
      ]
     },
     "execution_count": 181,
     "metadata": {},
     "output_type": "execute_result"
    }
   ],
   "source": [
    "df_results"
   ]
  },
  {
   "cell_type": "code",
   "execution_count": 182,
   "id": "f83aa3b3",
   "metadata": {},
   "outputs": [
    {
     "data": {
      "image/png": "[encoded data removed]",
      "text/plain": [
       "<Figure size 432x288 with 1 Axes>"
      ]
     },
     "metadata": {},
     "output_type": "display_data"
    }
   ],
   "source": [
    "ax = sns.barplot(x=\"classifier\", y=\"auc\", hue=\"data_set\", data=df_results)\n",
    "ax.set_xlabel('Classifier',fontsize = 15)\n",
    "ax.set_ylabel('AUC', fontsize = 15)\n",
    "ax.tick_params(labelsize=15)\n",
    "# Put the legend out of the figure\n",
    "plt.legend(bbox_to_anchor=(1.05, 1), loc=2, borderaxespad=0., fontsize = 15)\n",
    "\n",
    "plt.show()"
   ]
  },
  {
   "cell_type": "markdown",
   "id": "89aef00a",
   "metadata": {},
   "source": [
    "We can see that the Hyperparameter improved the result but not so much"
   ]
  },
  {
   "cell_type": "markdown",
   "id": "1bc121f8",
   "metadata": {},
   "source": [
    "Model Selection: Best Classifier\n",
    "\n",
    "Here we will chose the gradient boosting classifier since it has the best AUC on the validation set. You won't want to train your best classifier every time you want to run new predictions. Therefore, we need to save the classifier. We will use the package pickle."
   ]
  },
  {
   "cell_type": "code",
   "execution_count": 184,
   "id": "25dbef36",
   "metadata": {},
   "outputs": [],
   "source": [
    "\n",
    "pickle.dump(gbc_random.best_estimator_, open('best_classifier.pkl', 'wb'),protocol = 4)"
   ]
  },
  {
   "cell_type": "markdown",
   "id": "21791562",
   "metadata": {},
   "source": [
    "### Model Evaluation\n",
    "\n",
    "Now that we have selected our best model. Let's evaluate the performance of the test set."
   ]
  },
  {
   "cell_type": "code",
   "execution_count": 188,
   "id": "ca6be714",
   "metadata": {},
   "outputs": [],
   "source": [
    "X_test = df_test[col_use].values\n",
    "y_test = df_test['Readmission.Status'].values\n",
    "\n",
    "scaler = pickle.load(open('scaler.sav', 'rb'))\n",
    "X_test_tf = scaler.transform(X_test)"
   ]
  },
  {
   "cell_type": "code",
   "execution_count": 189,
   "id": "5140cc5f",
   "metadata": {},
   "outputs": [],
   "source": [
    "best_model = pickle.load(open('best_classifier.pkl','rb'))"
   ]
  },
  {
   "cell_type": "code",
   "execution_count": 190,
   "id": "5b457b10",
   "metadata": {},
   "outputs": [],
   "source": [
    "y_train_preds = best_model.predict_proba(X_train_tf)[:,1]\n",
    "y_valid_preds = best_model.predict_proba(X_valid_tf)[:,1]\n",
    "y_test_preds = best_model.predict_proba(X_test_tf)[:,1]"
   ]
  },
  {
   "cell_type": "code",
   "execution_count": 193,
   "id": "33c46cc8",
   "metadata": {},
   "outputs": [
    {
     "name": "stdout",
     "output_type": "stream",
     "text": [
      "Training:\n",
      "AUC:0.739\n",
      "accuracy:0.675\n",
      "recall:0.757\n",
      "precision:0.651\n",
      "specificity:0.594\n",
      "prevalence:0.500\n",
      " \n",
      "Validation:\n",
      "AUC:0.735\n",
      "accuracy:0.619\n",
      "recall:0.752\n",
      "precision:0.216\n",
      "specificity:0.599\n",
      "prevalence:0.128\n",
      " \n",
      "Test:\n",
      "AUC:0.746\n",
      "accuracy:0.626\n",
      "recall:0.772\n",
      "precision:0.221\n",
      "specificity:0.605\n",
      "prevalence:0.127\n",
      " \n"
     ]
    }
   ],
   "source": [
    "thresh = 0.5\n",
    "\n",
    "print('Training:')\n",
    "train_auc, train_accuracy, train_recall, train_precision, train_specificity = print_report(y_train,y_train_preds, thresh)\n",
    "print('Validation:')\n",
    "valid_auc, valid_accuracy, valid_recall, valid_precision, valid_specificity = print_report(y_valid,y_valid_preds, thresh)\n",
    "print('Test:')\n",
    "test_auc, test_accuracy, test_recall, test_precision, test_specificity = print_report(y_test,y_test_preds, thresh)"
   ]
  },
  {
   "cell_type": "code",
   "execution_count": 192,
   "id": "7b14cb95",
   "metadata": {},
   "outputs": [
    {
     "data": {
      "image/png": "[encoded data removed]",
      "text/plain": [
       "<Figure size 432x288 with 1 Axes>"
      ]
     },
     "metadata": {},
     "output_type": "display_data"
    }
   ],
   "source": [
    "from sklearn.metrics import roc_curve \n",
    "\n",
    "fpr_train, tpr_train, thresholds_train = roc_curve(y_train, y_train_preds)\n",
    "auc_train = roc_auc_score(y_train, y_train_preds)\n",
    "\n",
    "fpr_valid, tpr_valid, thresholds_valid = roc_curve(y_valid, y_valid_preds)\n",
    "auc_valid = roc_auc_score(y_valid, y_valid_preds)\n",
    "\n",
    "fpr_test, tpr_test, thresholds_test = roc_curve(y_test, y_test_preds)\n",
    "auc_test = roc_auc_score(y_test, y_test_preds)\n",
    "\n",
    "plt.plot(fpr_train, tpr_train, 'r-',label ='Train AUC:%.3f'%auc_train)\n",
    "plt.plot(fpr_valid, tpr_valid, 'b-',label ='Valid AUC:%.3f'%auc_valid)\n",
    "plt.plot(fpr_test, tpr_test, 'g-',label ='Test AUC:%.3f'%auc_test)\n",
    "plt.plot([0,1],[0,1],'k--')\n",
    "plt.xlabel('False Positive Rate')\n",
    "plt.ylabel('True Positive Rate')\n",
    "plt.legend()\n",
    "plt.show()"
   ]
  },
  {
   "cell_type": "markdown",
   "id": "3b718a0a",
   "metadata": {},
   "source": [
    "### Conclusion\n",
    "\n",
    "We created a binary classifier to predict the probability that a patient would be readmitted to the hospital within 30 days. On held out test data, our best model had an AUC of of 0.74. Using this model, we are able to catch 77% of the readmissions from our model that performs approximately 1.5 times better than randomly selecting patients."
   ]
  },
  {
   "cell_type": "code",
   "execution_count": null,
   "id": "a8106353",
   "metadata": {},
   "outputs": [],
   "source": []
  }
 ],
 "metadata": {
  "kernelspec": {
   "display_name": "Python 3 (ipykernel)",
   "language": "python",
   "name": "python3"
  },
  "language_info": {
   "codemirror_mode": {
    "name": "ipython",
    "version": 3
   },
   "file_extension": ".py",
   "mimetype": "text/x-python",
   "name": "python",
   "nbconvert_exporter": "python",
   "pygments_lexer": "ipython3",
   "version": "3.8.12"
  }
 },
 "nbformat": 4,
 "nbformat_minor": 5
}
